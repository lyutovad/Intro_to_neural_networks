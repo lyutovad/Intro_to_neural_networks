{
  "nbformat": 4,
  "nbformat_minor": 0,
  "metadata": {
    "colab": {
      "name": "Untitled0.ipynb",
      "provenance": []
    },
    "kernelspec": {
      "name": "python3",
      "display_name": "Python 3"
    }
  },
  "cells": [
    {
      "cell_type": "code",
      "metadata": {
        "id": "jTk1V5LbgIzB"
      },
      "source": [
        "import tensorflow as tf\r\n",
        "from tensorflow import keras\r\n",
        "from tensorflow.keras import layers\r\n",
        "import numpy as np\r\n",
        "\r\n",
        "from tensorflow.keras.preprocessing import image\r\n",
        "from PIL import Image\r\n",
        "import matplotlib.pyplot as plt"
      ],
      "execution_count": 7,
      "outputs": []
    },
    {
      "cell_type": "code",
      "metadata": {
        "colab": {
          "base_uri": "https://localhost:8080/"
        },
        "id": "HLbHIn4TgPMN",
        "outputId": "d43deb3d-5d2a-4804-b50c-48a30bf182de"
      },
      "source": [
        "batch_size = 64\r\n",
        "(x_train, _), (x_test, _) = tf.keras.datasets.cifar10.load_data()\r\n",
        "all_cifar = np.concatenate([x_train, x_test])\r\n",
        "all_cifar = all_cifar.astype(\"float32\") / 255\r\n",
        "print(all_cifar.shape)\r\n",
        "dataset = tf.data.Dataset.from_tensor_slices(all_cifar)\r\n",
        "dataset = dataset.shuffle(buffer_size=1024).batch(batch_size).prefetch(32)"
      ],
      "execution_count": 8,
      "outputs": [
        {
          "output_type": "stream",
          "text": [
            "Downloading data from https://www.cs.toronto.edu/~kriz/cifar-10-python.tar.gz\n",
            "170500096/170498071 [==============================] - 5s 0us/step\n",
            "(60000, 32, 32, 3)\n"
          ],
          "name": "stdout"
        }
      ]
    },
    {
      "cell_type": "code",
      "metadata": {
        "colab": {
          "base_uri": "https://localhost:8080/"
        },
        "id": "HttH8Ik4gSYm",
        "outputId": "68f18dd0-46a1-40e6-a0e4-49526af57562"
      },
      "source": [
        "discriminator = keras.Sequential(\r\n",
        "    [\r\n",
        "        keras.Input(shape=all_cifar.shape[1:]),\r\n",
        "        layers.Conv2D(64, (3, 3), padding=\"same\"),\r\n",
        "        layers.LeakyReLU(alpha=0.2),\r\n",
        "        layers.Conv2D(128, (3, 3), strides=(2, 2), padding=\"same\"),\r\n",
        "        layers.LeakyReLU(alpha=0.2),\r\n",
        "        layers.Conv2D(128, (3, 3), strides=(2, 2), padding=\"same\"),\r\n",
        "        layers.LeakyReLU(alpha=0.2),\r\n",
        "        layers.Conv2D(256, (3, 3), strides=(2, 2), padding=\"same\"),\r\n",
        "        layers.LeakyReLU(alpha=0.2),\r\n",
        "        layers.Flatten(),\r\n",
        "        layers.Dropout(0.2),\r\n",
        "        layers.Dense(1),\r\n",
        "    ],\r\n",
        "    name=\"discriminator\",\r\n",
        ")\r\n",
        "\r\n",
        "discriminator.summary()"
      ],
      "execution_count": 9,
      "outputs": [
        {
          "output_type": "stream",
          "text": [
            "Model: \"discriminator\"\n",
            "_________________________________________________________________\n",
            "Layer (type)                 Output Shape              Param #   \n",
            "=================================================================\n",
            "conv2d (Conv2D)              (None, 32, 32, 64)        1792      \n",
            "_________________________________________________________________\n",
            "leaky_re_lu (LeakyReLU)      (None, 32, 32, 64)        0         \n",
            "_________________________________________________________________\n",
            "conv2d_1 (Conv2D)            (None, 16, 16, 128)       73856     \n",
            "_________________________________________________________________\n",
            "leaky_re_lu_1 (LeakyReLU)    (None, 16, 16, 128)       0         \n",
            "_________________________________________________________________\n",
            "conv2d_2 (Conv2D)            (None, 8, 8, 128)         147584    \n",
            "_________________________________________________________________\n",
            "leaky_re_lu_2 (LeakyReLU)    (None, 8, 8, 128)         0         \n",
            "_________________________________________________________________\n",
            "conv2d_3 (Conv2D)            (None, 4, 4, 256)         295168    \n",
            "_________________________________________________________________\n",
            "leaky_re_lu_3 (LeakyReLU)    (None, 4, 4, 256)         0         \n",
            "_________________________________________________________________\n",
            "flatten (Flatten)            (None, 4096)              0         \n",
            "_________________________________________________________________\n",
            "dropout (Dropout)            (None, 4096)              0         \n",
            "_________________________________________________________________\n",
            "dense (Dense)                (None, 1)                 4097      \n",
            "=================================================================\n",
            "Total params: 522,497\n",
            "Trainable params: 522,497\n",
            "Non-trainable params: 0\n",
            "_________________________________________________________________\n"
          ],
          "name": "stdout"
        }
      ]
    },
    {
      "cell_type": "code",
      "metadata": {
        "colab": {
          "base_uri": "https://localhost:8080/"
        },
        "id": "UWrSaryRgVXg",
        "outputId": "3123fd22-cfbd-4ab5-eaff-86b030a6278d"
      },
      "source": [
        "latent_dim = 128\r\n",
        "generator = keras.Sequential(\r\n",
        "    [\r\n",
        "        keras.Input(shape=(latent_dim,)),\r\n",
        "        # строим размер входного вектора 7x7x128 map\r\n",
        "        layers.Dense(4 * 4 * 256),\r\n",
        "        layers.LeakyReLU(alpha=0.2),\r\n",
        "        layers.Reshape((4, 4, 256)),\r\n",
        "        layers.Conv2DTranspose(128, (4, 4), strides=(2, 2), padding=\"same\"),\r\n",
        "        layers.LeakyReLU(alpha=0.2),\r\n",
        "        layers.Conv2DTranspose(128, (4, 4), strides=(2, 2), padding=\"same\"),\r\n",
        "        layers.LeakyReLU(alpha=0.2),\r\n",
        "        layers.Conv2DTranspose(128, (4, 4), strides=(2, 2), padding=\"same\"),\r\n",
        "        layers.LeakyReLU(alpha=0.2),\r\n",
        "        layers.Conv2D(3, (3, 3), padding=\"same\", activation=\"tanh\"),\r\n",
        "    ],\r\n",
        "    name=\"generator\",\r\n",
        ")\r\n",
        "\r\n",
        "generator.summary()"
      ],
      "execution_count": 10,
      "outputs": [
        {
          "output_type": "stream",
          "text": [
            "Model: \"generator\"\n",
            "_________________________________________________________________\n",
            "Layer (type)                 Output Shape              Param #   \n",
            "=================================================================\n",
            "dense_1 (Dense)              (None, 4096)              528384    \n",
            "_________________________________________________________________\n",
            "leaky_re_lu_4 (LeakyReLU)    (None, 4096)              0         \n",
            "_________________________________________________________________\n",
            "reshape (Reshape)            (None, 4, 4, 256)         0         \n",
            "_________________________________________________________________\n",
            "conv2d_transpose (Conv2DTran (None, 8, 8, 128)         524416    \n",
            "_________________________________________________________________\n",
            "leaky_re_lu_5 (LeakyReLU)    (None, 8, 8, 128)         0         \n",
            "_________________________________________________________________\n",
            "conv2d_transpose_1 (Conv2DTr (None, 16, 16, 128)       262272    \n",
            "_________________________________________________________________\n",
            "leaky_re_lu_6 (LeakyReLU)    (None, 16, 16, 128)       0         \n",
            "_________________________________________________________________\n",
            "conv2d_transpose_2 (Conv2DTr (None, 32, 32, 128)       262272    \n",
            "_________________________________________________________________\n",
            "leaky_re_lu_7 (LeakyReLU)    (None, 32, 32, 128)       0         \n",
            "_________________________________________________________________\n",
            "conv2d_4 (Conv2D)            (None, 32, 32, 3)         3459      \n",
            "=================================================================\n",
            "Total params: 1,580,803\n",
            "Trainable params: 1,580,803\n",
            "Non-trainable params: 0\n",
            "_________________________________________________________________\n"
          ],
          "name": "stdout"
        }
      ]
    },
    {
      "cell_type": "code",
      "metadata": {
        "id": "eDIB0RMigYVq"
      },
      "source": [
        "class GAN(keras.Model):\r\n",
        "    def __init__(self, discriminator, generator, latent_dim):\r\n",
        "        super(GAN, self).__init__()\r\n",
        "        self.discriminator = discriminator\r\n",
        "        self.generator = generator\r\n",
        "        self.latent_dim = latent_dim\r\n",
        "\r\n",
        "    def compile(self, d_optimizer, g_optimizer, loss_fn):\r\n",
        "        super(GAN, self).compile()\r\n",
        "        self.d_optimizer = d_optimizer\r\n",
        "        self.g_optimizer = g_optimizer\r\n",
        "        self.loss_fn = loss_fn\r\n",
        "\r\n",
        "    def train_step(self, real_images):\r\n",
        "        if isinstance(real_images, tuple):\r\n",
        "            real_images = real_images[0]\r\n",
        "        # берем случайный пример из скрытого пространства\r\n",
        "        batch_size = tf.shape(real_images)[0]\r\n",
        "        random_latent_vectors = tf.random.normal(shape=(batch_size, self.latent_dim))\r\n",
        "\r\n",
        "        # Строим по нему фейковое изображение\r\n",
        "        generated_images = self.generator(random_latent_vectors)\r\n",
        "\r\n",
        "        # собрали с реальным в тензор\r\n",
        "        combined_images = tf.concat([generated_images, real_images], axis=0)\r\n",
        "\r\n",
        "        # задаем метки 1 и 0 соответственно\r\n",
        "        labels = tf.concat(\r\n",
        "            [tf.ones((batch_size, 1)), tf.zeros((batch_size, 1))], axis=0\r\n",
        "        )\r\n",
        "        # Добавляем шум !!!\r\n",
        "        labels += 0.05 * tf.random.uniform(tf.shape(labels))\r\n",
        "\r\n",
        "        # учим discriminator\r\n",
        "        with tf.GradientTape() as tape:\r\n",
        "            predictions = self.discriminator(combined_images)\r\n",
        "            d_loss = self.loss_fn(labels, predictions)\r\n",
        "        grads = tape.gradient(d_loss, self.discriminator.trainable_weights)\r\n",
        "        self.d_optimizer.apply_gradients(\r\n",
        "            zip(grads, self.discriminator.trainable_weights)\r\n",
        "        )\r\n",
        "\r\n",
        "        #Выбрали случайный пример в скрытом пространстве\r\n",
        "        random_latent_vectors = tf.random.normal(shape=(batch_size, self.latent_dim))\r\n",
        "\r\n",
        "        # собрали метки реальных изображений\r\n",
        "        misleading_labels = tf.zeros((batch_size, 1))\r\n",
        "\r\n",
        "        # Учим generator !\r\n",
        "        with tf.GradientTape() as tape:\r\n",
        "            predictions = self.discriminator(self.generator(random_latent_vectors))\r\n",
        "            g_loss = self.loss_fn(misleading_labels, predictions)\r\n",
        "        grads = tape.gradient(g_loss, self.generator.trainable_weights)\r\n",
        "        self.g_optimizer.apply_gradients(zip(grads, self.generator.trainable_weights))\r\n",
        "        return {\"d_loss\": d_loss, \"g_loss\": g_loss}"
      ],
      "execution_count": 11,
      "outputs": []
    },
    {
      "cell_type": "code",
      "metadata": {
        "id": "2xowzDgCgfB3"
      },
      "source": [
        "class GANMonitor(keras.callbacks.Callback):\r\n",
        "    def __init__(self, num_img=3, latent_dim=128):\r\n",
        "        self.num_img = num_img\r\n",
        "        self.latent_dim = latent_dim\r\n",
        "\r\n",
        "    def on_epoch_end(self, epoch, logs=None):\r\n",
        "        random_latent_vectors = tf.random.normal(shape=(self.num_img, self.latent_dim))\r\n",
        "        generated_images = self.model.generator(random_latent_vectors)\r\n",
        "        generated_images *= 255\r\n",
        "        generated_images.numpy()\r\n",
        "        for i in range(self.num_img):\r\n",
        "            img = keras.preprocessing.image.array_to_img(generated_images[i])\r\n",
        "            img.save(f\"generated_img_{i}_{epoch}.png\")"
      ],
      "execution_count": 12,
      "outputs": []
    },
    {
      "cell_type": "code",
      "metadata": {
        "colab": {
          "base_uri": "https://localhost:8080/"
        },
        "id": "4rufh2B3A2XZ",
        "outputId": "deff8168-c18a-4853-9af0-dcdb9a62f9a4"
      },
      "source": [
        "\r\n",
        "epochs = 5\r\n",
        "img_nums = 5\r\n",
        "\r\n",
        "gan = GAN(discriminator=discriminator, generator=generator, latent_dim=latent_dim)\r\n",
        "gan.compile(\r\n",
        "    d_optimizer=keras.optimizers.Adam(learning_rate=0.0003),\r\n",
        "    g_optimizer=keras.optimizers.Adam(learning_rate=0.0003),\r\n",
        "    loss_fn=keras.losses.BinaryCrossentropy(from_logits=True),\r\n",
        ")\r\n",
        "\r\n",
        "gan.fit(\r\n",
        "    dataset, \r\n",
        "    epochs=epochs, \r\n",
        "    callbacks=[GANMonitor(num_img=img_nums, latent_dim=latent_dim)]\r\n",
        ")"
      ],
      "execution_count": 13,
      "outputs": [
        {
          "output_type": "stream",
          "text": [
            "Epoch 1/5\n",
            "938/938 [==============================] - 2386s 3s/step - d_loss: -37.4907 - g_loss: 6595.5964\n",
            "Epoch 2/5\n",
            "938/938 [==============================] - 2374s 3s/step - d_loss: -143512.2040 - g_loss: 19761361.3610\n",
            "Epoch 3/5\n",
            "938/938 [==============================] - 2379s 3s/step - d_loss: -7530325.8560 - g_loss: 1002454841.3357\n",
            "Epoch 4/5\n",
            "938/938 [==============================] - 2383s 3s/step - d_loss: -80220878.9193 - g_loss: 10224165661.3078\n",
            "Epoch 5/5\n",
            "938/938 [==============================] - 2380s 3s/step - d_loss: -436949667.4089 - g_loss: 53045937861.9297\n"
          ],
          "name": "stdout"
        },
        {
          "output_type": "execute_result",
          "data": {
            "text/plain": [
              "<tensorflow.python.keras.callbacks.History at 0x7f0f811d36a0>"
            ]
          },
          "metadata": {
            "tags": []
          },
          "execution_count": 13
        }
      ]
    },
    {
      "cell_type": "code",
      "metadata": {
        "id": "DrtE4TFrA5qM",
        "colab": {
          "base_uri": "https://localhost:8080/",
          "height": 68
        },
        "outputId": "d1a0eeab-b21c-429a-fdcf-97360cbba144"
      },
      "source": [
        "from IPython.display import Image, display\r\n",
        "\r\n",
        "display(Image(\"generated_img_0_2.png\"))\r\n",
        "display(Image(\"generated_img_1_2.png\"))\r\n",
        "display(Image(\"generated_img_2_2.png\"))"
      ],
      "execution_count": 1,
      "outputs": [
        {
          "output_type": "display_data",
          "data": {
            "image/png": "generated_img_0_2.png",
            "text/plain": [
              "<IPython.core.display.Image object>"
            ]
          },
          "metadata": {
            "tags": []
          }
        },
        {
          "output_type": "display_data",
          "data": {
            "image/png": "generated_img_1_2.png",
            "text/plain": [
              "<IPython.core.display.Image object>"
            ]
          },
          "metadata": {
            "tags": []
          }
        },
        {
          "output_type": "display_data",
          "data": {
            "image/png": "generated_img_2_2.png",
            "text/plain": [
              "<IPython.core.display.Image object>"
            ]
          },
          "metadata": {
            "tags": []
          }
        }
      ]
    },
    {
      "cell_type": "code",
      "metadata": {
        "id": "SoqbM4rEBByh",
        "colab": {
          "base_uri": "https://localhost:8080/",
          "height": 68
        },
        "outputId": "2d511a47-6d20-43f4-bac5-c0df42ffb9d8"
      },
      "source": [
        "display(Image(\"generated_img_2_0.png\"))\r\n",
        "display(Image(\"generated_img_2_1.png\"))\r\n",
        "display(Image(\"generated_img_2_2.png\"))"
      ],
      "execution_count": 2,
      "outputs": [
        {
          "output_type": "display_data",
          "data": {
            "image/png": "generated_img_2_0.png",
            "text/plain": [
              "<IPython.core.display.Image object>"
            ]
          },
          "metadata": {
            "tags": []
          }
        },
        {
          "output_type": "display_data",
          "data": {
            "image/png": "generated_img_2_1.png",
            "text/plain": [
              "<IPython.core.display.Image object>"
            ]
          },
          "metadata": {
            "tags": []
          }
        },
        {
          "output_type": "display_data",
          "data": {
            "image/png": "generated_img_2_2.png",
            "text/plain": [
              "<IPython.core.display.Image object>"
            ]
          },
          "metadata": {
            "tags": []
          }
        }
      ]
    },
    {
      "cell_type": "code",
      "metadata": {
        "id": "xxv58kJGBi1U"
      },
      "source": [
        ""
      ],
      "execution_count": null,
      "outputs": []
    }
  ]
}