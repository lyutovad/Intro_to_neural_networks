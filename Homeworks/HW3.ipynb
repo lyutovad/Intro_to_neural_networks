{
 "cells": [
  {
   "cell_type": "markdown",
   "metadata": {},
   "source": [
    "Попробуйте обучить нейронную сеть на TensorFlow 2 на датасете imdb_reviews .Опишите, какого результата вы добились от нейросети? Что помогло вам улучшить ее точность?"
   ]
  },
  {
   "cell_type": "code",
   "execution_count": 102,
   "metadata": {},
   "outputs": [],
   "source": [
    "import tensorflow as tf\n",
    "import numpy as np\n",
    "\n",
    "from tensorflow.keras.preprocessing.sequence import pad_sequences\n",
    "from tensorflow.keras.datasets import imdb \n",
    "from tensorflow import keras\n",
    "from tensorflow.keras.models import Sequential\n",
    "from tensorflow.keras.layers import Embedding, Flatten, Dense, Dropout\n",
    "\n",
    "import matplotlib.pyplot as plt\n",
    "\n",
    "\n",
    "import warnings\n",
    "warnings.simplefilter(\"ignore\")"
   ]
  },
  {
   "cell_type": "code",
   "execution_count": 103,
   "metadata": {},
   "outputs": [],
   "source": [
    "(x_train, y_train), (x_test, y_test) = imdb.load_data(path=\"imdb.npz\",\n",
    "                                                  num_words=10000,\n",
    "                                                  skip_top=0,\n",
    "                                                  maxlen=None,\n",
    "                                                  seed=113,\n",
    "                                                  start_char=1,\n",
    "                                                  oov_char=2,\n",
    "                                                  index_from=3) "
   ]
  },
  {
   "cell_type": "code",
   "execution_count": 104,
   "metadata": {
    "colab": {
     "base_uri": "https://localhost:8080/"
    },
    "executionInfo": {
     "elapsed": 3803,
     "status": "ok",
     "timestamp": 1606935478755,
     "user": {
      "displayName": "Mariia Korliakova",
      "photoUrl": "",
      "userId": "14165537686129864864"
     },
     "user_tz": -180
    },
    "id": "qBUSq3dWHUjF",
    "outputId": "ca6f5686-7f8b-4850-ce74-0f66d72de6b4"
   },
   "outputs": [
    {
     "name": "stdout",
     "output_type": "stream",
     "text": [
      "(25000,)\n",
      "(25000,)\n"
     ]
    }
   ],
   "source": [
    "print(x_train.shape)\n",
    "print(x_test.shape)"
   ]
  },
  {
   "cell_type": "markdown",
   "metadata": {},
   "source": [
    "Набор из 25 000 отзывов о фильмах из IMDB, помеченных сентиментальностью (положительный/отрицательный). Отзывы были препроцессированы, и каждый отзыв закодирован как последовательность индексов слов (целых чисел). Для удобства, слова индексируются по общей частоте в наборе данных, так что, например, целое число «3» кодирует 3-е наиболее часто встречающееся слово в данных. "
   ]
  },
  {
   "cell_type": "code",
   "execution_count": 219,
   "metadata": {},
   "outputs": [],
   "source": [
    "# word_to_id.items()"
   ]
  },
  {
   "cell_type": "code",
   "execution_count": 78,
   "metadata": {},
   "outputs": [
    {
     "name": "stdout",
     "output_type": "stream",
     "text": [
      "[1, 14, 22, 16, 43, 530, 973, 1622, 1385, 65, 458, 4468, 66, 3941, 4, 173, 36, 256, 5, 25, 100, 43, 838, 112, 50, 670, 2, 9, 35, 480, 284, 5, 150, 4, 172, 112, 167, 2, 336, 385, 39, 4, 172, 4536, 1111, 17, 546, 38, 13, 447, 4, 192, 50, 16, 6, 147, 2025, 19, 14, 22, 4, 1920, 4613, 469, 4, 22, 71, 87, 12, 16, 43, 530, 38, 76, 15, 13, 1247, 4, 22, 17, 515, 17, 12, 16, 626, 18, 2, 5, 62, 386, 12, 8, 316, 8, 106, 5, 4, 2223, 5244, 16, 480, 66, 3785, 33, 4, 130, 12, 16, 38, 619, 5, 25, 124, 51, 36, 135, 48, 25, 1415, 33, 6, 22, 12, 215, 28, 77, 52, 5, 14, 407, 16, 82, 2, 8, 4, 107, 117, 5952, 15, 256, 4, 2, 7, 3766, 5, 723, 36, 71, 43, 530, 476, 26, 400, 317, 46, 7, 4, 2, 1029, 13, 104, 88, 4, 381, 15, 297, 98, 32, 2071, 56, 26, 141, 6, 194, 7486, 18, 4, 226, 22, 21, 134, 476, 26, 480, 5, 144, 30, 5535, 18, 51, 36, 28, 224, 92, 25, 104, 4, 226, 65, 16, 38, 1334, 88, 12, 16, 283, 5, 16, 4472, 113, 103, 32, 15, 16, 5345, 19, 178, 32]\n"
     ]
    }
   ],
   "source": [
    "print(x_train[0])"
   ]
  },
  {
   "cell_type": "code",
   "execution_count": 79,
   "metadata": {},
   "outputs": [
    {
     "name": "stdout",
     "output_type": "stream",
     "text": [
      "2494\n",
      "11\n"
     ]
    }
   ],
   "source": [
    "# maxi = 0\n",
    "# mini = 25000\n",
    "# for i in range(25000):\n",
    "#     if len(x_train[i])>maxi:\n",
    "#         maxi = len(x_train[i])\n",
    "#     if len(x_train[i])<mini:\n",
    "#         mini = len(x_train[i])\n",
    "# print(maxi)\n",
    "# print(mini)"
   ]
  },
  {
   "cell_type": "markdown",
   "metadata": {},
   "source": [
    "Для дальнейшей обработки необходимо входные сигналы к одному размеру "
   ]
  },
  {
   "cell_type": "code",
   "execution_count": 105,
   "metadata": {},
   "outputs": [],
   "source": [
    "# Последовательность пэдов одинаковой длины\n",
    "padded_inputs = pad_sequences(x_train, maxlen=100, value = 0.0) # 0.0 так как это соответствует <PAD>\n",
    "padded_inputs_test = pad_sequences(x_test, maxlen=100, value = 0.0) # 0.0 because it corresponds with <PAD>"
   ]
  },
  {
   "cell_type": "code",
   "execution_count": 106,
   "metadata": {},
   "outputs": [
    {
     "name": "stdout",
     "output_type": "stream",
     "text": [
      "=================================================\n",
      "Образец = 24399 | Длина = 100\n",
      "=================================================\n",
      "to fight over either luke wilson or the equally vapid <UNK> in this movie the female actresses are very cute and that's the only reason to watch this movie i suppose it is <UNK> that <UNK> even <UNK> <UNK> <UNK> friend is around but well that is what we get br br neither of the female leads would ever ever talk to any of the males in this movie for more than 5 minutes what we get is them <UNK> and crying and fighting and so on over 2 guys that were best described in friday the 13th 4 dead\n",
      "=================================================\n",
      "Образец = 5704 | Длина = 100\n",
      "=================================================\n",
      "consider myself a <UNK> kinski fan she is certainly <UNK> and exotic but she's outside her range with this br br alexandra paul is <UNK> overwrought every line she delivers is with three <UNK> points someone must have directed her to scream at all costs why would michael des <UNK> want to have sex with such a raging <UNK> br br finally <UNK> arquette as the sweet <UNK> wife comes off okay and probably the most believable of the bunch but that is not saying much br br this has to be the worst film i have seen in years\n",
      "=================================================\n",
      "Образец = 2270 | Длина = 100\n",
      "=================================================\n",
      "film clearly wants to show that germany and france can work together and be friends after <UNK> i and how the germans came to the aid of the french <UNK> much to the <UNK> of the french <UNK> the actors were all outstanding with unusual scenes in the mine with a horse and a small young boy who worked in the mine there is an old old retired <UNK> who <UNK> to go down the mine by ladder when the elevator breaks down if you are a real film buff this is a film you will not want to miss\n"
     ]
    }
   ],
   "source": [
    "for i in np.random.randint(0, len(padded_inputs), 3):\n",
    "    INDEX_FROM=3   # смещение индекса слов\n",
    "    word_to_id = imdb.get_word_index()\n",
    "    word_to_id = {k:(v+INDEX_FROM) for k,v in word_to_id.items()}\n",
    "    word_to_id[\"<PAD>\"] = 0\n",
    "    word_to_id[\"<START>\"] = 1\n",
    "    word_to_id[\"<UNK>\"] = 2\n",
    "    word_to_id[\"<UNUSED>\"] = 3\n",
    "    \n",
    "    id_to_word = {value:key for key,value in word_to_id.items()}\n",
    "    print('=================================================')\n",
    "    print(f'Образец = {i} | Длина = {len(padded_inputs[i])}')\n",
    "    print('=================================================')\n",
    "    print(' '.join(id_to_word[id] for id in padded_inputs[i] ))"
   ]
  },
  {
   "cell_type": "markdown",
   "metadata": {},
   "source": [
    "**Строим сеть**"
   ]
  },
  {
   "cell_type": "markdown",
   "metadata": {},
   "source": [
    "Стартовая модель - копия модели с урока 3"
   ]
  },
  {
   "cell_type": "code",
   "execution_count": 115,
   "metadata": {},
   "outputs": [
    {
     "name": "stdout",
     "output_type": "stream",
     "text": [
      "Model: \"sequential_18\"\n",
      "_________________________________________________________________\n",
      "Layer (type)                 Output Shape              Param #   \n",
      "=================================================================\n",
      "flatten_11 (Flatten)         (None, 100)               0         \n",
      "_________________________________________________________________\n",
      "dense_36 (Dense)             (None, 128)               12928     \n",
      "_________________________________________________________________\n",
      "dense_37 (Dense)             (None, 2)                 258       \n",
      "=================================================================\n",
      "Total params: 13,186\n",
      "Trainable params: 13,186\n",
      "Non-trainable params: 0\n",
      "_________________________________________________________________\n"
     ]
    }
   ],
   "source": [
    "first_model = keras.Sequential([\n",
    "    keras.layers.Flatten(input_shape=(100,)),\n",
    "    keras.layers.Dense(128, activation='relu'),\n",
    "    keras.layers.Dense(2)\n",
    "])\n",
    "\n",
    "first_model.compile(optimizer='adam',\n",
    "                    loss=tf.keras.losses.BinaryCrossentropy(from_logits=False, \n",
    "                                                             label_smoothing=0,\n",
    "                                                             name='binary_crossentropy'),\n",
    "                    metrics=['accuracy'])\n",
    "\n",
    "\n",
    "\n",
    "first_model.summary()"
   ]
  },
  {
   "cell_type": "code",
   "execution_count": 116,
   "metadata": {
    "colab": {
     "base_uri": "https://localhost:8080/"
    },
    "executionInfo": {
     "elapsed": 531167,
     "status": "ok",
     "timestamp": 1606936006170,
     "user": {
      "displayName": "Mariia Korliakova",
      "photoUrl": "",
      "userId": "14165537686129864864"
     },
     "user_tz": -180
    },
    "id": "UmAqbArVIkl9",
    "outputId": "697fb730-8402-4adb-ab7c-cddb500609a1"
   },
   "outputs": [
    {
     "name": "stdout",
     "output_type": "stream",
     "text": [
      "Epoch 1/100\n",
      "10/10 [==============================] - 0s 14ms/step - loss: 7.7766 - accuracy: 0.4981 - val_loss: 7.6449 - val_accuracy: 0.5018\n",
      "Epoch 2/100\n",
      "10/10 [==============================] - 0s 5ms/step - loss: 7.7007 - accuracy: 0.4941 - val_loss: 7.6270 - val_accuracy: 0.5036\n",
      "Epoch 3/100\n",
      "10/10 [==============================] - 0s 5ms/step - loss: 7.7850 - accuracy: 0.4900 - val_loss: 7.5890 - val_accuracy: 0.5036\n",
      "Epoch 4/100\n",
      "10/10 [==============================] - 0s 5ms/step - loss: 7.6345 - accuracy: 0.4987 - val_loss: 7.6481 - val_accuracy: 0.5058\n",
      "Epoch 5/100\n",
      "10/10 [==============================] - 0s 7ms/step - loss: 7.6986 - accuracy: 0.4904 - val_loss: 7.6203 - val_accuracy: 0.5048\n",
      "Epoch 6/100\n",
      "10/10 [==============================] - 0s 6ms/step - loss: 7.6157 - accuracy: 0.4975 - val_loss: 7.6402 - val_accuracy: 0.5056\n",
      "Epoch 7/100\n",
      "10/10 [==============================] - 0s 5ms/step - loss: 7.6758 - accuracy: 0.4894 - val_loss: 7.5841 - val_accuracy: 0.5054\n",
      "Epoch 8/100\n",
      "10/10 [==============================] - 0s 5ms/step - loss: 7.6153 - accuracy: 0.4945 - val_loss: 7.6058 - val_accuracy: 0.5054\n",
      "Epoch 9/100\n",
      "10/10 [==============================] - 0s 5ms/step - loss: 7.6637 - accuracy: 0.4962 - val_loss: 7.5978 - val_accuracy: 0.5058\n",
      "Epoch 10/100\n",
      "10/10 [==============================] - 0s 5ms/step - loss: 7.6249 - accuracy: 0.5004 - val_loss: 7.6010 - val_accuracy: 0.5056\n",
      "Epoch 11/100\n",
      "10/10 [==============================] - 0s 5ms/step - loss: 7.6683 - accuracy: 0.4983 - val_loss: 7.5969 - val_accuracy: 0.5060\n",
      "Epoch 12/100\n",
      "10/10 [==============================] - 0s 6ms/step - loss: 7.6295 - accuracy: 0.4993 - val_loss: 7.5939 - val_accuracy: 0.5060\n",
      "Epoch 13/100\n",
      "10/10 [==============================] - 0s 5ms/step - loss: 7.6355 - accuracy: 0.4995 - val_loss: 7.6262 - val_accuracy: 0.5058\n",
      "Epoch 14/100\n",
      "10/10 [==============================] - 0s 5ms/step - loss: 7.6233 - accuracy: 0.4987 - val_loss: 7.5769 - val_accuracy: 0.5058\n",
      "Epoch 15/100\n",
      "10/10 [==============================] - 0s 5ms/step - loss: 7.6118 - accuracy: 0.4996 - val_loss: 7.6059 - val_accuracy: 0.5060\n",
      "Epoch 16/100\n",
      "10/10 [==============================] - 0s 5ms/step - loss: 7.6249 - accuracy: 0.4998 - val_loss: 7.5886 - val_accuracy: 0.5062\n",
      "Epoch 17/100\n",
      "10/10 [==============================] - 0s 5ms/step - loss: 7.6131 - accuracy: 0.4984 - val_loss: 7.6227 - val_accuracy: 0.5060\n",
      "Epoch 18/100\n",
      "10/10 [==============================] - 0s 5ms/step - loss: 7.6482 - accuracy: 0.4998 - val_loss: 7.6157 - val_accuracy: 0.5060\n",
      "Epoch 19/100\n",
      "10/10 [==============================] - 0s 5ms/step - loss: 7.6400 - accuracy: 0.4972 - val_loss: 7.6244 - val_accuracy: 0.5060\n",
      "Epoch 20/100\n",
      "10/10 [==============================] - 0s 5ms/step - loss: 7.6341 - accuracy: 0.4984 - val_loss: 7.6321 - val_accuracy: 0.5060\n",
      "Epoch 21/100\n",
      "10/10 [==============================] - 0s 5ms/step - loss: 7.6366 - accuracy: 0.4990 - val_loss: 7.6131 - val_accuracy: 0.5058\n",
      "Epoch 22/100\n",
      "10/10 [==============================] - 0s 5ms/step - loss: 7.6433 - accuracy: 0.4962 - val_loss: 7.6253 - val_accuracy: 0.5058\n",
      "Epoch 23/100\n",
      "10/10 [==============================] - 0s 5ms/step - loss: 7.6634 - accuracy: 0.4959 - val_loss: 7.6240 - val_accuracy: 0.5058\n",
      "Epoch 24/100\n",
      "10/10 [==============================] - 0s 7ms/step - loss: 7.6613 - accuracy: 0.4944 - val_loss: 7.6407 - val_accuracy: 0.5058\n",
      "Epoch 25/100\n",
      "10/10 [==============================] - 0s 6ms/step - loss: 7.6319 - accuracy: 0.5047 - val_loss: 7.6121 - val_accuracy: 0.5064\n",
      "Epoch 26/100\n",
      "10/10 [==============================] - 0s 5ms/step - loss: 7.6639 - accuracy: 0.4987 - val_loss: 7.5818 - val_accuracy: 0.5044\n",
      "Epoch 27/100\n",
      "10/10 [==============================] - 0s 5ms/step - loss: 7.6638 - accuracy: 0.4947 - val_loss: 7.6219 - val_accuracy: 0.5046\n",
      "Epoch 28/100\n",
      "10/10 [==============================] - 0s 5ms/step - loss: 7.6453 - accuracy: 0.5008 - val_loss: 7.6136 - val_accuracy: 0.5062\n",
      "Epoch 29/100\n",
      "10/10 [==============================] - 0s 5ms/step - loss: 7.6518 - accuracy: 0.4983 - val_loss: 7.6197 - val_accuracy: 0.5062\n",
      "Epoch 30/100\n",
      "10/10 [==============================] - 0s 5ms/step - loss: 7.6196 - accuracy: 0.5017 - val_loss: 7.6238 - val_accuracy: 0.5064\n",
      "Epoch 31/100\n",
      "10/10 [==============================] - 0s 5ms/step - loss: 7.6158 - accuracy: 0.4997 - val_loss: 7.6231 - val_accuracy: 0.5062\n",
      "Epoch 32/100\n",
      "10/10 [==============================] - 0s 5ms/step - loss: 7.6005 - accuracy: 0.5005 - val_loss: 7.6124 - val_accuracy: 0.5064\n",
      "Epoch 33/100\n",
      "10/10 [==============================] - 0s 5ms/step - loss: 7.6478 - accuracy: 0.5005 - val_loss: 7.6284 - val_accuracy: 0.5064\n",
      "Epoch 34/100\n",
      "10/10 [==============================] - 0s 5ms/step - loss: 7.6390 - accuracy: 0.4946 - val_loss: 7.6336 - val_accuracy: 0.5056\n",
      "Epoch 35/100\n",
      "10/10 [==============================] - 0s 5ms/step - loss: 7.6343 - accuracy: 0.4981 - val_loss: 7.6277 - val_accuracy: 0.5056\n",
      "Epoch 36/100\n",
      "10/10 [==============================] - 0s 5ms/step - loss: 7.6371 - accuracy: 0.4995 - val_loss: 7.6349 - val_accuracy: 0.5060\n",
      "Epoch 37/100\n",
      "10/10 [==============================] - 0s 5ms/step - loss: 7.6353 - accuracy: 0.4966 - val_loss: 7.6293 - val_accuracy: 0.5062\n",
      "Epoch 38/100\n",
      "10/10 [==============================] - 0s 5ms/step - loss: 7.6188 - accuracy: 0.4966 - val_loss: 7.6292 - val_accuracy: 0.5062\n",
      "Epoch 39/100\n",
      "10/10 [==============================] - 0s 5ms/step - loss: 7.6195 - accuracy: 0.5011 - val_loss: 7.6476 - val_accuracy: 0.5062\n",
      "Epoch 40/100\n",
      "10/10 [==============================] - 0s 5ms/step - loss: 7.6265 - accuracy: 0.4992 - val_loss: 7.6446 - val_accuracy: 0.5062\n",
      "Epoch 41/100\n",
      "10/10 [==============================] - 0s 5ms/step - loss: 7.6351 - accuracy: 0.4980 - val_loss: 7.6265 - val_accuracy: 0.5058\n",
      "Epoch 42/100\n",
      "10/10 [==============================] - 0s 5ms/step - loss: 7.6225 - accuracy: 0.4986 - val_loss: 7.6476 - val_accuracy: 0.5064\n",
      "Epoch 43/100\n",
      "10/10 [==============================] - 0s 5ms/step - loss: 7.6085 - accuracy: 0.4940 - val_loss: 7.6377 - val_accuracy: 0.5066\n",
      "Epoch 44/100\n",
      "10/10 [==============================] - 0s 8ms/step - loss: 7.6027 - accuracy: 0.5010 - val_loss: 7.6453 - val_accuracy: 0.5068\n",
      "Epoch 45/100\n",
      "10/10 [==============================] - 0s 6ms/step - loss: 7.6192 - accuracy: 0.5008 - val_loss: 7.6437 - val_accuracy: 0.5068\n",
      "Epoch 46/100\n",
      "10/10 [==============================] - 0s 5ms/step - loss: 7.6206 - accuracy: 0.4994 - val_loss: 7.6469 - val_accuracy: 0.5068\n",
      "Epoch 47/100\n",
      "10/10 [==============================] - 0s 5ms/step - loss: 7.6292 - accuracy: 0.4952 - val_loss: 7.6454 - val_accuracy: 0.5068\n",
      "Epoch 48/100\n",
      "10/10 [==============================] - 0s 5ms/step - loss: 7.6193 - accuracy: 0.4974 - val_loss: 7.6539 - val_accuracy: 0.5066\n",
      "Epoch 49/100\n",
      "10/10 [==============================] - 0s 5ms/step - loss: 7.6436 - accuracy: 0.4986 - val_loss: 7.6537 - val_accuracy: 0.5064\n",
      "Epoch 50/100\n",
      "10/10 [==============================] - 0s 5ms/step - loss: 7.6531 - accuracy: 0.4908 - val_loss: 7.6582 - val_accuracy: 0.5064\n",
      "Epoch 51/100\n",
      "10/10 [==============================] - 0s 5ms/step - loss: 7.6375 - accuracy: 0.5005 - val_loss: 7.6552 - val_accuracy: 0.5064\n",
      "Epoch 52/100\n",
      "10/10 [==============================] - 0s 6ms/step - loss: 7.6458 - accuracy: 0.4966 - val_loss: 7.6598 - val_accuracy: 0.5064\n",
      "Epoch 53/100\n",
      "10/10 [==============================] - 0s 5ms/step - loss: 7.6631 - accuracy: 0.4976 - val_loss: 7.6584 - val_accuracy: 0.5064\n",
      "Epoch 54/100\n",
      "10/10 [==============================] - 0s 5ms/step - loss: 7.6495 - accuracy: 0.4951 - val_loss: 7.6582 - val_accuracy: 0.5064\n",
      "Epoch 55/100\n",
      "10/10 [==============================] - 0s 5ms/step - loss: 7.6353 - accuracy: 0.4955 - val_loss: 7.6630 - val_accuracy: 0.5064\n",
      "Epoch 56/100\n",
      "10/10 [==============================] - 0s 5ms/step - loss: 7.6276 - accuracy: 0.4932 - val_loss: 7.6570 - val_accuracy: 0.5066\n",
      "Epoch 57/100\n",
      "10/10 [==============================] - 0s 5ms/step - loss: 7.6205 - accuracy: 0.5024 - val_loss: 7.6495 - val_accuracy: 0.5066\n",
      "Epoch 58/100\n",
      "10/10 [==============================] - 0s 5ms/step - loss: 7.6165 - accuracy: 0.4972 - val_loss: 7.6467 - val_accuracy: 0.5066\n"
     ]
    },
    {
     "name": "stdout",
     "output_type": "stream",
     "text": [
      "Epoch 59/100\n",
      "10/10 [==============================] - 0s 40ms/step - loss: 7.6289 - accuracy: 0.4990 - val_loss: 7.6471 - val_accuracy: 0.5060\n",
      "Epoch 60/100\n",
      "10/10 [==============================] - 0s 5ms/step - loss: 7.6331 - accuracy: 0.4995 - val_loss: 7.6427 - val_accuracy: 0.5060\n",
      "Epoch 61/100\n",
      "10/10 [==============================] - 0s 5ms/step - loss: 7.6200 - accuracy: 0.4980 - val_loss: 7.6755 - val_accuracy: 0.5064\n",
      "Epoch 62/100\n",
      "10/10 [==============================] - 0s 5ms/step - loss: 7.6416 - accuracy: 0.4933 - val_loss: 7.6755 - val_accuracy: 0.5066\n",
      "Epoch 63/100\n",
      "10/10 [==============================] - 0s 5ms/step - loss: 7.6404 - accuracy: 0.4953 - val_loss: 7.6380 - val_accuracy: 0.5060\n",
      "Epoch 64/100\n",
      "10/10 [==============================] - 0s 5ms/step - loss: 7.6462 - accuracy: 0.5005 - val_loss: 7.6158 - val_accuracy: 0.5058\n",
      "Epoch 65/100\n",
      "10/10 [==============================] - 0s 5ms/step - loss: 7.6313 - accuracy: 0.4935 - val_loss: 7.5933 - val_accuracy: 0.5044\n",
      "Epoch 66/100\n",
      "10/10 [==============================] - 0s 5ms/step - loss: 7.6179 - accuracy: 0.4977 - val_loss: 7.6014 - val_accuracy: 0.5020\n",
      "Epoch 67/100\n",
      "10/10 [==============================] - 0s 5ms/step - loss: 7.6137 - accuracy: 0.4962 - val_loss: 7.6159 - val_accuracy: 0.5012\n",
      "Epoch 68/100\n",
      "10/10 [==============================] - 0s 5ms/step - loss: 7.6634 - accuracy: 0.4938 - val_loss: 7.6214 - val_accuracy: 0.5034\n",
      "Epoch 69/100\n",
      "10/10 [==============================] - 0s 5ms/step - loss: 7.6095 - accuracy: 0.5004 - val_loss: 7.6083 - val_accuracy: 0.5026\n",
      "Epoch 70/100\n",
      "10/10 [==============================] - 0s 5ms/step - loss: 7.6322 - accuracy: 0.4930 - val_loss: 7.6213 - val_accuracy: 0.5012\n",
      "Epoch 71/100\n",
      "10/10 [==============================] - 0s 5ms/step - loss: 7.6270 - accuracy: 0.4947 - val_loss: 7.6764 - val_accuracy: 0.5014\n",
      "Epoch 72/100\n",
      "10/10 [==============================] - 0s 5ms/step - loss: 7.6731 - accuracy: 0.4954 - val_loss: 7.5799 - val_accuracy: 0.4978\n",
      "Epoch 73/100\n",
      "10/10 [==============================] - 0s 5ms/step - loss: 7.5568 - accuracy: 0.4950 - val_loss: 7.6362 - val_accuracy: 0.5022\n",
      "Epoch 74/100\n",
      "10/10 [==============================] - 0s 5ms/step - loss: 7.5567 - accuracy: 0.4963 - val_loss: 7.6010 - val_accuracy: 0.5028\n",
      "Epoch 75/100\n",
      "10/10 [==============================] - 0s 5ms/step - loss: 7.5825 - accuracy: 0.4989 - val_loss: 7.5907 - val_accuracy: 0.5020\n",
      "Epoch 76/100\n",
      "10/10 [==============================] - 0s 5ms/step - loss: 7.5179 - accuracy: 0.5004 - val_loss: 7.5959 - val_accuracy: 0.5016\n",
      "Epoch 77/100\n",
      "10/10 [==============================] - 0s 5ms/step - loss: 7.5410 - accuracy: 0.5014 - val_loss: 7.5813 - val_accuracy: 0.4954\n",
      "Epoch 78/100\n",
      "10/10 [==============================] - 0s 7ms/step - loss: 7.5688 - accuracy: 0.4989 - val_loss: 7.6357 - val_accuracy: 0.4938\n",
      "Epoch 79/100\n",
      "10/10 [==============================] - 0s 6ms/step - loss: 7.5620 - accuracy: 0.5000 - val_loss: 7.5779 - val_accuracy: 0.4956\n",
      "Epoch 80/100\n",
      "10/10 [==============================] - 0s 5ms/step - loss: 7.6642 - accuracy: 0.4994 - val_loss: 7.6022 - val_accuracy: 0.4994\n",
      "Epoch 81/100\n",
      "10/10 [==============================] - 0s 5ms/step - loss: 7.6076 - accuracy: 0.5012 - val_loss: 7.6394 - val_accuracy: 0.5034\n",
      "Epoch 82/100\n",
      "10/10 [==============================] - 0s 5ms/step - loss: 7.6106 - accuracy: 0.5047 - val_loss: 7.7072 - val_accuracy: 0.4980\n",
      "Epoch 83/100\n",
      "10/10 [==============================] - 0s 5ms/step - loss: 7.6578 - accuracy: 0.5046 - val_loss: 7.7613 - val_accuracy: 0.4950\n",
      "Epoch 84/100\n",
      "10/10 [==============================] - 0s 5ms/step - loss: 7.6370 - accuracy: 0.5035 - val_loss: 7.7427 - val_accuracy: 0.4958\n",
      "Epoch 85/100\n",
      "10/10 [==============================] - 0s 5ms/step - loss: 7.6297 - accuracy: 0.5034 - val_loss: 7.7454 - val_accuracy: 0.4936\n",
      "Epoch 86/100\n",
      "10/10 [==============================] - 0s 5ms/step - loss: 7.6588 - accuracy: 0.4957 - val_loss: 7.7333 - val_accuracy: 0.4936\n",
      "Epoch 87/100\n",
      "10/10 [==============================] - 0s 6ms/step - loss: 7.6576 - accuracy: 0.4978 - val_loss: 7.6942 - val_accuracy: 0.4932\n",
      "Epoch 88/100\n",
      "10/10 [==============================] - 0s 5ms/step - loss: 7.6303 - accuracy: 0.5040 - val_loss: 7.6662 - val_accuracy: 0.4932\n",
      "Epoch 89/100\n",
      "10/10 [==============================] - 0s 5ms/step - loss: 7.6480 - accuracy: 0.5030 - val_loss: 7.6634 - val_accuracy: 0.4934\n",
      "Epoch 90/100\n",
      "10/10 [==============================] - 0s 5ms/step - loss: 7.6439 - accuracy: 0.4985 - val_loss: 7.6575 - val_accuracy: 0.4930\n",
      "Epoch 91/100\n",
      "10/10 [==============================] - 0s 5ms/step - loss: 7.6213 - accuracy: 0.5005 - val_loss: 7.6621 - val_accuracy: 0.4930\n",
      "Epoch 92/100\n",
      "10/10 [==============================] - 0s 5ms/step - loss: 7.6358 - accuracy: 0.5018 - val_loss: 7.6649 - val_accuracy: 0.4932\n",
      "Epoch 93/100\n",
      "10/10 [==============================] - 0s 5ms/step - loss: 7.6246 - accuracy: 0.5031 - val_loss: 7.6649 - val_accuracy: 0.4932\n",
      "Epoch 94/100\n",
      "10/10 [==============================] - 0s 5ms/step - loss: 7.6311 - accuracy: 0.5053 - val_loss: 7.6649 - val_accuracy: 0.4932\n",
      "Epoch 95/100\n",
      "10/10 [==============================] - 0s 5ms/step - loss: 7.6451 - accuracy: 0.5041 - val_loss: 7.6605 - val_accuracy: 0.4928\n",
      "Epoch 96/100\n",
      "10/10 [==============================] - 0s 5ms/step - loss: 7.6379 - accuracy: 0.5038 - val_loss: 7.6605 - val_accuracy: 0.4932\n",
      "Epoch 97/100\n",
      "10/10 [==============================] - 0s 5ms/step - loss: 7.6298 - accuracy: 0.5015 - val_loss: 7.6468 - val_accuracy: 0.4934\n",
      "Epoch 98/100\n",
      "10/10 [==============================] - 0s 7ms/step - loss: 7.6490 - accuracy: 0.5010 - val_loss: 7.6467 - val_accuracy: 0.4936\n",
      "Epoch 99/100\n",
      "10/10 [==============================] - 0s 5ms/step - loss: 7.6233 - accuracy: 0.5020 - val_loss: 7.6577 - val_accuracy: 0.4932\n",
      "Epoch 100/100\n",
      "10/10 [==============================] - 0s 5ms/step - loss: 7.6430 - accuracy: 0.4998 - val_loss: 7.6692 - val_accuracy: 0.4936\n",
      "782/782 [==============================] - 0s 423us/step - loss: 7.6605 - accuracy: 0.4994\n",
      "\n",
      "Test accuracy: 0.49935999512672424\n"
     ]
    }
   ],
   "source": [
    "first_history = first_model.fit(padded_inputs, y_train,\n",
    "                                epochs=100,\n",
    "                                batch_size=2000,\n",
    "                                validation_split=0.2)\n",
    "\n",
    "test_loss, test_acc = first_model.evaluate(padded_inputs_test,  y_test)\n",
    "\n",
    "print('\\nTest accuracy:', test_acc)"
   ]
  },
  {
   "cell_type": "markdown",
   "metadata": {},
   "source": [
    "**Вывод** точность модели 0,5, что можно сравнить с простым подбрасыванеим монетки.\n",
    "Вероятно, это происходит, потому что данные не нормированы, не предобработаны (кроме длины пэда).\n",
    "\n",
    "Добавим слой Эмбедингов (Преобразовывает положительные целые числа (индексы) в плотные (dense) векторы фиксированного размера)"
   ]
  },
  {
   "cell_type": "code",
   "execution_count": 152,
   "metadata": {
    "scrolled": true
   },
   "outputs": [
    {
     "name": "stdout",
     "output_type": "stream",
     "text": [
      "Model: \"sequential_35\"\n",
      "_________________________________________________________________\n",
      "Layer (type)                 Output Shape              Param #   \n",
      "=================================================================\n",
      "embedding_25 (Embedding)     (None, 100, 15)           150000    \n",
      "_________________________________________________________________\n",
      "flatten_27 (Flatten)         (None, 1500)              0         \n",
      "_________________________________________________________________\n",
      "dense_92 (Dense)             (None, 128)               192128    \n",
      "_________________________________________________________________\n",
      "dense_93 (Dense)             (None, 2)                 258       \n",
      "=================================================================\n",
      "Total params: 342,386\n",
      "Trainable params: 342,386\n",
      "Non-trainable params: 0\n",
      "_________________________________________________________________\n"
     ]
    }
   ],
   "source": [
    "second_model = keras.Sequential([\n",
    "    keras.layers.Embedding(10000, input_length=100, output_dim=15),\n",
    "    keras.layers.Flatten(),\n",
    "    keras.layers.Dense(128, activation='relu'),\n",
    "    keras.layers.Dense(2)\n",
    "])\n",
    "\n",
    "second_model.compile(optimizer='adam',\n",
    "                    loss=tf.keras.losses.BinaryCrossentropy(from_logits=False, \n",
    "                                                             label_smoothing=0,\n",
    "                                                             name='binary_crossentropy'),\n",
    "                    metrics=['accuracy'])\n",
    "\n",
    "\n",
    "\n",
    "second_model.summary()"
   ]
  },
  {
   "cell_type": "code",
   "execution_count": 153,
   "metadata": {},
   "outputs": [
    {
     "name": "stdout",
     "output_type": "stream",
     "text": [
      "Epoch 1/100\n",
      "10/10 [==============================] - 1s 36ms/step - loss: 4.1189 - accuracy: 0.5040 - val_loss: 1.0270 - val_accuracy: 0.4870\n",
      "Epoch 2/100\n",
      "10/10 [==============================] - 0s 23ms/step - loss: 0.9438 - accuracy: 0.5001 - val_loss: 0.7534 - val_accuracy: 0.4902\n",
      "Epoch 3/100\n",
      "10/10 [==============================] - 0s 24ms/step - loss: 0.7274 - accuracy: 0.5017 - val_loss: 0.6920 - val_accuracy: 0.4944\n",
      "Epoch 4/100\n",
      "10/10 [==============================] - 0s 23ms/step - loss: 0.6831 - accuracy: 0.5034 - val_loss: 0.6858 - val_accuracy: 0.4970\n",
      "Epoch 5/100\n",
      "10/10 [==============================] - 0s 26ms/step - loss: 0.6729 - accuracy: 0.5073 - val_loss: 0.6737 - val_accuracy: 0.5044\n",
      "Epoch 6/100\n",
      "10/10 [==============================] - 0s 23ms/step - loss: 0.6567 - accuracy: 0.5147 - val_loss: 0.6585 - val_accuracy: 0.5110\n",
      "Epoch 7/100\n",
      "10/10 [==============================] - 0s 23ms/step - loss: 0.6387 - accuracy: 0.5119 - val_loss: 0.6459 - val_accuracy: 0.5100\n",
      "Epoch 8/100\n",
      "10/10 [==============================] - 0s 23ms/step - loss: 0.6246 - accuracy: 0.5151 - val_loss: 0.6331 - val_accuracy: 0.5114\n",
      "Epoch 9/100\n",
      "10/10 [==============================] - 0s 27ms/step - loss: 0.6059 - accuracy: 0.5204 - val_loss: 0.6187 - val_accuracy: 0.5194\n",
      "Epoch 10/100\n",
      "10/10 [==============================] - 0s 23ms/step - loss: 0.5877 - accuracy: 0.5305 - val_loss: 0.6029 - val_accuracy: 0.5240\n",
      "Epoch 11/100\n",
      "10/10 [==============================] - 0s 23ms/step - loss: 0.5674 - accuracy: 0.5316 - val_loss: 0.5849 - val_accuracy: 0.5322\n",
      "Epoch 12/100\n",
      "10/10 [==============================] - 0s 23ms/step - loss: 0.5443 - accuracy: 0.5454 - val_loss: 0.5645 - val_accuracy: 0.5414\n",
      "Epoch 13/100\n",
      "10/10 [==============================] - 0s 26ms/step - loss: 0.5175 - accuracy: 0.5551 - val_loss: 0.5417 - val_accuracy: 0.5502\n",
      "Epoch 14/100\n",
      "10/10 [==============================] - 0s 23ms/step - loss: 0.4887 - accuracy: 0.5674 - val_loss: 0.5169 - val_accuracy: 0.5660\n",
      "Epoch 15/100\n",
      "10/10 [==============================] - 0s 23ms/step - loss: 0.4565 - accuracy: 0.5835 - val_loss: 0.4924 - val_accuracy: 0.5804\n",
      "Epoch 16/100\n",
      "10/10 [==============================] - 0s 24ms/step - loss: 0.4204 - accuracy: 0.5982 - val_loss: 0.4668 - val_accuracy: 0.5934\n",
      "Epoch 17/100\n",
      "10/10 [==============================] - 0s 25ms/step - loss: 0.3850 - accuracy: 0.6157 - val_loss: 0.4442 - val_accuracy: 0.6042\n",
      "Epoch 18/100\n",
      "10/10 [==============================] - 0s 26ms/step - loss: 0.3516 - accuracy: 0.6297 - val_loss: 0.4303 - val_accuracy: 0.6100\n",
      "Epoch 19/100\n",
      "10/10 [==============================] - 0s 23ms/step - loss: 0.3214 - accuracy: 0.6405 - val_loss: 0.4205 - val_accuracy: 0.6142\n",
      "Epoch 20/100\n",
      "10/10 [==============================] - 0s 23ms/step - loss: 0.2950 - accuracy: 0.6394 - val_loss: 0.4236 - val_accuracy: 0.6154\n",
      "Epoch 21/100\n",
      "10/10 [==============================] - 0s 23ms/step - loss: 0.2740 - accuracy: 0.6419 - val_loss: 0.4280 - val_accuracy: 0.6146\n",
      "Epoch 22/100\n",
      "10/10 [==============================] - 0s 26ms/step - loss: 0.2504 - accuracy: 0.6414 - val_loss: 0.4337 - val_accuracy: 0.6190\n",
      "Epoch 23/100\n",
      "10/10 [==============================] - 0s 23ms/step - loss: 0.2327 - accuracy: 0.6492 - val_loss: 0.4381 - val_accuracy: 0.6224\n",
      "Epoch 24/100\n",
      "10/10 [==============================] - 0s 23ms/step - loss: 0.2171 - accuracy: 0.6583 - val_loss: 0.4469 - val_accuracy: 0.6246\n",
      "Epoch 25/100\n",
      "10/10 [==============================] - 0s 23ms/step - loss: 0.2017 - accuracy: 0.6590 - val_loss: 0.4620 - val_accuracy: 0.6290\n",
      "Epoch 26/100\n",
      "10/10 [==============================] - 0s 26ms/step - loss: 0.1859 - accuracy: 0.6662 - val_loss: 0.4765 - val_accuracy: 0.6298\n",
      "Epoch 27/100\n",
      "10/10 [==============================] - 0s 23ms/step - loss: 0.1783 - accuracy: 0.6731 - val_loss: 0.4904 - val_accuracy: 0.6318\n",
      "Epoch 28/100\n",
      "10/10 [==============================] - 0s 23ms/step - loss: 0.1649 - accuracy: 0.6759 - val_loss: 0.5019 - val_accuracy: 0.6334\n",
      "Epoch 29/100\n",
      "10/10 [==============================] - 0s 23ms/step - loss: 0.1514 - accuracy: 0.6822 - val_loss: 0.5243 - val_accuracy: 0.6346\n",
      "Epoch 30/100\n",
      "10/10 [==============================] - 0s 27ms/step - loss: 0.1459 - accuracy: 0.6884 - val_loss: 0.5413 - val_accuracy: 0.6366\n",
      "Epoch 31/100\n",
      "10/10 [==============================] - 0s 23ms/step - loss: 0.1345 - accuracy: 0.6962 - val_loss: 0.5549 - val_accuracy: 0.6386\n",
      "Epoch 32/100\n",
      "10/10 [==============================] - 0s 23ms/step - loss: 0.1240 - accuracy: 0.7012 - val_loss: 0.5760 - val_accuracy: 0.6382\n",
      "Epoch 33/100\n",
      "10/10 [==============================] - 0s 23ms/step - loss: 0.1160 - accuracy: 0.7024 - val_loss: 0.5954 - val_accuracy: 0.6390\n",
      "Epoch 34/100\n",
      "10/10 [==============================] - 0s 24ms/step - loss: 0.1072 - accuracy: 0.7039 - val_loss: 0.6104 - val_accuracy: 0.6404\n",
      "Epoch 35/100\n",
      "10/10 [==============================] - 1s 59ms/step - loss: 0.0966 - accuracy: 0.7116 - val_loss: 0.6255 - val_accuracy: 0.6394\n",
      "Epoch 36/100\n",
      "10/10 [==============================] - 0s 23ms/step - loss: 0.0880 - accuracy: 0.7185 - val_loss: 0.6377 - val_accuracy: 0.6404\n",
      "Epoch 37/100\n",
      "10/10 [==============================] - 0s 26ms/step - loss: 0.0823 - accuracy: 0.7236 - val_loss: 0.6553 - val_accuracy: 0.6408\n",
      "Epoch 38/100\n",
      "10/10 [==============================] - 0s 24ms/step - loss: 0.0734 - accuracy: 0.7293 - val_loss: 0.6677 - val_accuracy: 0.6416\n",
      "Epoch 39/100\n",
      "10/10 [==============================] - 0s 23ms/step - loss: 0.0662 - accuracy: 0.7312 - val_loss: 0.6847 - val_accuracy: 0.6384\n",
      "Epoch 40/100\n",
      "10/10 [==============================] - 0s 23ms/step - loss: 0.0620 - accuracy: 0.7331 - val_loss: 0.7020 - val_accuracy: 0.6380\n",
      "Epoch 41/100\n",
      "10/10 [==============================] - 0s 23ms/step - loss: 0.0541 - accuracy: 0.7354 - val_loss: 0.7165 - val_accuracy: 0.6360\n",
      "Epoch 42/100\n",
      "10/10 [==============================] - 0s 26ms/step - loss: 0.0499 - accuracy: 0.7346 - val_loss: 0.7335 - val_accuracy: 0.6370\n",
      "Epoch 43/100\n",
      "10/10 [==============================] - 0s 24ms/step - loss: 0.0456 - accuracy: 0.7348 - val_loss: 0.7444 - val_accuracy: 0.6350\n",
      "Epoch 44/100\n",
      "10/10 [==============================] - 0s 23ms/step - loss: 0.0385 - accuracy: 0.7391 - val_loss: 0.7667 - val_accuracy: 0.6358\n",
      "Epoch 45/100\n",
      "10/10 [==============================] - 0s 23ms/step - loss: 0.0339 - accuracy: 0.7374 - val_loss: 0.7724 - val_accuracy: 0.6312\n",
      "Epoch 46/100\n",
      "10/10 [==============================] - 0s 27ms/step - loss: 0.0311 - accuracy: 0.7376 - val_loss: 0.7939 - val_accuracy: 0.6290\n",
      "Epoch 47/100\n",
      "10/10 [==============================] - 0s 23ms/step - loss: 0.0263 - accuracy: 0.7390 - val_loss: 0.8109 - val_accuracy: 0.6268\n",
      "Epoch 48/100\n",
      "10/10 [==============================] - 0s 23ms/step - loss: 0.0221 - accuracy: 0.7351 - val_loss: 0.8261 - val_accuracy: 0.6244\n",
      "Epoch 49/100\n",
      "10/10 [==============================] - 0s 23ms/step - loss: 0.0208 - accuracy: 0.7392 - val_loss: 0.8384 - val_accuracy: 0.6222\n",
      "Epoch 50/100\n",
      "10/10 [==============================] - 0s 26ms/step - loss: 0.0184 - accuracy: 0.7368 - val_loss: 0.8553 - val_accuracy: 0.6226\n",
      "Epoch 51/100\n",
      "10/10 [==============================] - 0s 23ms/step - loss: 0.0147 - accuracy: 0.7385 - val_loss: 0.8696 - val_accuracy: 0.6214\n",
      "Epoch 52/100\n",
      "10/10 [==============================] - 0s 23ms/step - loss: 0.0127 - accuracy: 0.7385 - val_loss: 0.8838 - val_accuracy: 0.6194\n",
      "Epoch 53/100\n",
      "10/10 [==============================] - 0s 24ms/step - loss: 0.0120 - accuracy: 0.7352 - val_loss: 0.8964 - val_accuracy: 0.6170\n",
      "Epoch 54/100\n",
      "10/10 [==============================] - 0s 26ms/step - loss: 0.0094 - accuracy: 0.7376 - val_loss: 0.9084 - val_accuracy: 0.6138\n",
      "Epoch 55/100\n",
      "10/10 [==============================] - 0s 23ms/step - loss: 0.0085 - accuracy: 0.7302 - val_loss: 0.9182 - val_accuracy: 0.6124\n",
      "Epoch 56/100\n",
      "10/10 [==============================] - 0s 23ms/step - loss: 0.0076 - accuracy: 0.7281 - val_loss: 0.9267 - val_accuracy: 0.6098\n",
      "Epoch 57/100\n",
      "10/10 [==============================] - 0s 23ms/step - loss: 0.0068 - accuracy: 0.7234 - val_loss: 0.9321 - val_accuracy: 0.6082\n",
      "Epoch 58/100\n"
     ]
    },
    {
     "name": "stdout",
     "output_type": "stream",
     "text": [
      "10/10 [==============================] - 0s 23ms/step - loss: 0.0051 - accuracy: 0.7206 - val_loss: 0.9405 - val_accuracy: 0.6058\n",
      "Epoch 59/100\n",
      "10/10 [==============================] - 0s 26ms/step - loss: 0.0052 - accuracy: 0.7201 - val_loss: 0.9501 - val_accuracy: 0.6060\n",
      "Epoch 60/100\n",
      "10/10 [==============================] - 0s 24ms/step - loss: 0.0043 - accuracy: 0.7219 - val_loss: 0.9551 - val_accuracy: 0.6044\n",
      "Epoch 61/100\n",
      "10/10 [==============================] - 0s 23ms/step - loss: 0.0033 - accuracy: 0.7202 - val_loss: 0.9607 - val_accuracy: 0.6034\n",
      "Epoch 62/100\n",
      "10/10 [==============================] - 0s 23ms/step - loss: 0.0030 - accuracy: 0.7172 - val_loss: 0.9675 - val_accuracy: 0.6038\n",
      "Epoch 63/100\n",
      "10/10 [==============================] - 0s 26ms/step - loss: 0.0040 - accuracy: 0.7142 - val_loss: 0.9692 - val_accuracy: 0.6012\n",
      "Epoch 64/100\n",
      "10/10 [==============================] - 0s 23ms/step - loss: 0.0038 - accuracy: 0.7149 - val_loss: 0.9744 - val_accuracy: 0.6006\n",
      "Epoch 65/100\n",
      "10/10 [==============================] - 0s 23ms/step - loss: 0.0016 - accuracy: 0.7135 - val_loss: 0.9788 - val_accuracy: 0.5992\n",
      "Epoch 66/100\n",
      "10/10 [==============================] - 0s 23ms/step - loss: 0.0015 - accuracy: 0.7109 - val_loss: 0.9822 - val_accuracy: 0.5996\n",
      "Epoch 67/100\n",
      "10/10 [==============================] - 0s 26ms/step - loss: 0.0019 - accuracy: 0.7106 - val_loss: 0.9829 - val_accuracy: 0.5986\n",
      "Epoch 68/100\n",
      "10/10 [==============================] - 0s 23ms/step - loss: 0.0023 - accuracy: 0.7117 - val_loss: 0.9852 - val_accuracy: 0.5982\n",
      "Epoch 69/100\n",
      "10/10 [==============================] - 0s 24ms/step - loss: 0.0033 - accuracy: 0.7075 - val_loss: 0.9864 - val_accuracy: 0.5968\n",
      "Epoch 70/100\n",
      "10/10 [==============================] - 0s 23ms/step - loss: 0.0025 - accuracy: 0.7104 - val_loss: 0.9868 - val_accuracy: 0.5952\n",
      "Epoch 71/100\n",
      "10/10 [==============================] - 0s 25ms/step - loss: 0.0032 - accuracy: 0.7070 - val_loss: 0.9922 - val_accuracy: 0.5944\n",
      "Epoch 72/100\n",
      "10/10 [==============================] - 0s 23ms/step - loss: 8.2322e-04 - accuracy: 0.7036 - val_loss: 0.9911 - val_accuracy: 0.5940\n",
      "Epoch 73/100\n",
      "10/10 [==============================] - 0s 24ms/step - loss: 0.0015 - accuracy: 0.7071 - val_loss: 0.9949 - val_accuracy: 0.5940\n",
      "Epoch 74/100\n",
      "10/10 [==============================] - 0s 23ms/step - loss: 8.8543e-04 - accuracy: 0.7040 - val_loss: 0.9933 - val_accuracy: 0.5926\n",
      "Epoch 75/100\n",
      "10/10 [==============================] - 0s 25ms/step - loss: 0.0011 - accuracy: 0.7067 - val_loss: 0.9940 - val_accuracy: 0.5914\n",
      "Epoch 76/100\n",
      "10/10 [==============================] - 0s 25ms/step - loss: 0.0013 - accuracy: 0.7049 - val_loss: 0.9960 - val_accuracy: 0.5900\n",
      "Epoch 77/100\n",
      "10/10 [==============================] - 0s 24ms/step - loss: 7.1102e-04 - accuracy: 0.6999 - val_loss: 0.9962 - val_accuracy: 0.5906\n",
      "Epoch 78/100\n",
      "10/10 [==============================] - 0s 23ms/step - loss: 5.1954e-04 - accuracy: 0.6980 - val_loss: 1.0017 - val_accuracy: 0.5898\n",
      "Epoch 79/100\n",
      "10/10 [==============================] - 0s 23ms/step - loss: 0.0025 - accuracy: 0.6988 - val_loss: 1.0003 - val_accuracy: 0.5890\n",
      "Epoch 80/100\n",
      "10/10 [==============================] - 0s 27ms/step - loss: 9.6979e-04 - accuracy: 0.6998 - val_loss: 1.0006 - val_accuracy: 0.5892\n",
      "Epoch 81/100\n",
      "10/10 [==============================] - 0s 23ms/step - loss: 9.4843e-04 - accuracy: 0.6988 - val_loss: 1.0093 - val_accuracy: 0.5888\n",
      "Epoch 82/100\n",
      "10/10 [==============================] - 0s 24ms/step - loss: 0.0015 - accuracy: 0.6977 - val_loss: 1.0038 - val_accuracy: 0.5888\n",
      "Epoch 83/100\n",
      "10/10 [==============================] - 0s 24ms/step - loss: 6.4966e-04 - accuracy: 0.6981 - val_loss: 1.0039 - val_accuracy: 0.5880\n",
      "Epoch 84/100\n",
      "10/10 [==============================] - 0s 27ms/step - loss: 9.3846e-04 - accuracy: 0.6984 - val_loss: 1.0058 - val_accuracy: 0.5882\n",
      "Epoch 85/100\n",
      "10/10 [==============================] - 0s 24ms/step - loss: 0.0018 - accuracy: 0.7002 - val_loss: 1.0083 - val_accuracy: 0.5880\n",
      "Epoch 86/100\n",
      "10/10 [==============================] - 0s 23ms/step - loss: 0.0010 - accuracy: 0.7008 - val_loss: 1.0076 - val_accuracy: 0.5876\n",
      "Epoch 87/100\n",
      "10/10 [==============================] - 0s 23ms/step - loss: 0.0015 - accuracy: 0.6958 - val_loss: 1.0115 - val_accuracy: 0.5882\n",
      "Epoch 88/100\n",
      "10/10 [==============================] - 0s 27ms/step - loss: 0.0043 - accuracy: 0.6974 - val_loss: 1.0092 - val_accuracy: 0.5878\n",
      "Epoch 89/100\n",
      "10/10 [==============================] - 0s 24ms/step - loss: 0.0030 - accuracy: 0.6981 - val_loss: 1.0127 - val_accuracy: 0.5878\n",
      "Epoch 90/100\n",
      "10/10 [==============================] - 0s 23ms/step - loss: 0.0011 - accuracy: 0.6967 - val_loss: 1.0170 - val_accuracy: 0.5874\n",
      "Epoch 91/100\n",
      "10/10 [==============================] - 0s 24ms/step - loss: 0.0017 - accuracy: 0.6967 - val_loss: 1.0136 - val_accuracy: 0.5872\n",
      "Epoch 92/100\n",
      "10/10 [==============================] - 0s 25ms/step - loss: 0.0010 - accuracy: 0.6965 - val_loss: 1.0148 - val_accuracy: 0.5870\n",
      "Epoch 93/100\n",
      "10/10 [==============================] - 0s 23ms/step - loss: 7.2978e-04 - accuracy: 0.6979 - val_loss: 1.0155 - val_accuracy: 0.5872\n",
      "Epoch 94/100\n",
      "10/10 [==============================] - 0s 24ms/step - loss: 0.0012 - accuracy: 0.6963 - val_loss: 1.0155 - val_accuracy: 0.5870\n",
      "Epoch 95/100\n",
      "10/10 [==============================] - 0s 24ms/step - loss: 0.0013 - accuracy: 0.6982 - val_loss: 1.0156 - val_accuracy: 0.5868\n",
      "Epoch 96/100\n",
      "10/10 [==============================] - 0s 24ms/step - loss: 0.0025 - accuracy: 0.6945 - val_loss: 1.0167 - val_accuracy: 0.5868\n",
      "Epoch 97/100\n",
      "10/10 [==============================] - 0s 25ms/step - loss: 0.0026 - accuracy: 0.6918 - val_loss: 1.0168 - val_accuracy: 0.5864\n",
      "Epoch 98/100\n",
      "10/10 [==============================] - 0s 24ms/step - loss: 0.0023 - accuracy: 0.6960 - val_loss: 1.0163 - val_accuracy: 0.5860\n",
      "Epoch 99/100\n",
      "10/10 [==============================] - 0s 23ms/step - loss: 0.0014 - accuracy: 0.6944 - val_loss: 1.0162 - val_accuracy: 0.5860\n",
      "Epoch 100/100\n",
      "10/10 [==============================] - 0s 23ms/step - loss: 0.0025 - accuracy: 0.6973 - val_loss: 1.0173 - val_accuracy: 0.5858\n",
      "782/782 [==============================] - 1s 942us/step - loss: 1.1192 - accuracy: 0.5943\n",
      "\n",
      "Test accuracy: 0.5942800045013428\n"
     ]
    }
   ],
   "source": [
    "second_history = second_model.fit(padded_inputs, y_train,\n",
    "                                epochs=100,\n",
    "                                batch_size=2000,\n",
    "                                validation_split=0.2)\n",
    "\n",
    "test_loss, test_acc = second_model.evaluate(padded_inputs_test,  y_test)\n",
    "\n",
    "print('\\nTest accuracy:', test_acc)"
   ]
  },
  {
   "cell_type": "markdown",
   "metadata": {},
   "source": [
    "**Вывод** точность модели выросла до 0,59"
   ]
  },
  {
   "cell_type": "markdown",
   "metadata": {},
   "source": [
    "Добавим еще 1 слой"
   ]
  },
  {
   "cell_type": "code",
   "execution_count": 172,
   "metadata": {
    "scrolled": true
   },
   "outputs": [
    {
     "name": "stdout",
     "output_type": "stream",
     "text": [
      "Model: \"sequential_41\"\n",
      "_________________________________________________________________\n",
      "Layer (type)                 Output Shape              Param #   \n",
      "=================================================================\n",
      "embedding_31 (Embedding)     (None, 100, 15)           150000    \n",
      "_________________________________________________________________\n",
      "flatten_33 (Flatten)         (None, 1500)              0         \n",
      "_________________________________________________________________\n",
      "dense_111 (Dense)            (None, 128)               192128    \n",
      "_________________________________________________________________\n",
      "dense_112 (Dense)            (None, 64)                8256      \n",
      "_________________________________________________________________\n",
      "dense_113 (Dense)            (None, 2)                 130       \n",
      "=================================================================\n",
      "Total params: 350,514\n",
      "Trainable params: 350,514\n",
      "Non-trainable params: 0\n",
      "_________________________________________________________________\n"
     ]
    }
   ],
   "source": [
    "third_model = keras.Sequential([\n",
    "    keras.layers.Embedding(10000, input_length=100, output_dim=15),\n",
    "    keras.layers.Flatten(),\n",
    "    keras.layers.Dense(128, activation='relu'),\n",
    "    keras.layers.Dense(64, activation='relu'),\n",
    "    keras.layers.Dense(2)\n",
    "])\n",
    "\n",
    "third_model.compile(optimizer='adam',\n",
    "                    loss=tf.keras.losses.BinaryCrossentropy(from_logits=False, \n",
    "                                                             label_smoothing=0,\n",
    "                                                             name='binary_crossentropy'),\n",
    "                    metrics=['accuracy'])\n",
    "\n",
    "third_model.summary()"
   ]
  },
  {
   "cell_type": "code",
   "execution_count": 173,
   "metadata": {},
   "outputs": [
    {
     "name": "stdout",
     "output_type": "stream",
     "text": [
      "Epoch 1/30\n",
      "10/10 [==============================] - 1s 33ms/step - loss: 3.6977 - accuracy: 0.5055 - val_loss: 1.1774 - val_accuracy: 0.4942\n",
      "Epoch 2/30\n",
      "10/10 [==============================] - 0s 26ms/step - loss: 1.1155 - accuracy: 0.5031 - val_loss: 0.9103 - val_accuracy: 0.4968\n",
      "Epoch 3/30\n",
      "10/10 [==============================] - 0s 24ms/step - loss: 0.8735 - accuracy: 0.5042 - val_loss: 0.7673 - val_accuracy: 0.5036\n",
      "Epoch 4/30\n",
      "10/10 [==============================] - 0s 23ms/step - loss: 0.7438 - accuracy: 0.5041 - val_loss: 0.6990 - val_accuracy: 0.5040\n",
      "Epoch 5/30\n",
      "10/10 [==============================] - 0s 23ms/step - loss: 0.6855 - accuracy: 0.5090 - val_loss: 0.6833 - val_accuracy: 0.5056\n",
      "Epoch 6/30\n",
      "10/10 [==============================] - 0s 27ms/step - loss: 0.6653 - accuracy: 0.5079 - val_loss: 0.6679 - val_accuracy: 0.5060\n",
      "Epoch 7/30\n",
      "10/10 [==============================] - 0s 23ms/step - loss: 0.6443 - accuracy: 0.5110 - val_loss: 0.6517 - val_accuracy: 0.5048\n",
      "Epoch 8/30\n",
      "10/10 [==============================] - 0s 23ms/step - loss: 0.6249 - accuracy: 0.5143 - val_loss: 0.6361 - val_accuracy: 0.5106\n",
      "Epoch 9/30\n",
      "10/10 [==============================] - 0s 23ms/step - loss: 0.6018 - accuracy: 0.5210 - val_loss: 0.6177 - val_accuracy: 0.5240\n",
      "Epoch 10/30\n",
      "10/10 [==============================] - 0s 28ms/step - loss: 0.5778 - accuracy: 0.5312 - val_loss: 0.5953 - val_accuracy: 0.5384\n",
      "Epoch 11/30\n",
      "10/10 [==============================] - 0s 24ms/step - loss: 0.5430 - accuracy: 0.5553 - val_loss: 0.5675 - val_accuracy: 0.5586\n",
      "Epoch 12/30\n",
      "10/10 [==============================] - 0s 24ms/step - loss: 0.5027 - accuracy: 0.5863 - val_loss: 0.5365 - val_accuracy: 0.5782\n",
      "Epoch 13/30\n",
      "10/10 [==============================] - 0s 23ms/step - loss: 0.4620 - accuracy: 0.6118 - val_loss: 0.5046 - val_accuracy: 0.6074\n",
      "Epoch 14/30\n",
      "10/10 [==============================] - 0s 26ms/step - loss: 0.4129 - accuracy: 0.6402 - val_loss: 0.4794 - val_accuracy: 0.6312\n",
      "Epoch 15/30\n",
      "10/10 [==============================] - 0s 24ms/step - loss: 0.3658 - accuracy: 0.6602 - val_loss: 0.4607 - val_accuracy: 0.6402\n",
      "Epoch 16/30\n",
      "10/10 [==============================] - 0s 24ms/step - loss: 0.3237 - accuracy: 0.6734 - val_loss: 0.4476 - val_accuracy: 0.6508\n",
      "Epoch 17/30\n",
      "10/10 [==============================] - 0s 24ms/step - loss: 0.2876 - accuracy: 0.6910 - val_loss: 0.4400 - val_accuracy: 0.6688\n",
      "Epoch 18/30\n",
      "10/10 [==============================] - 0s 26ms/step - loss: 0.2540 - accuracy: 0.7106 - val_loss: 0.4511 - val_accuracy: 0.6798\n",
      "Epoch 19/30\n",
      "10/10 [==============================] - 0s 24ms/step - loss: 0.2301 - accuracy: 0.7291 - val_loss: 0.4577 - val_accuracy: 0.6918\n",
      "Epoch 20/30\n",
      "10/10 [==============================] - 0s 24ms/step - loss: 0.2050 - accuracy: 0.7364 - val_loss: 0.4709 - val_accuracy: 0.7002\n",
      "Epoch 21/30\n",
      "10/10 [==============================] - 0s 24ms/step - loss: 0.1843 - accuracy: 0.7519 - val_loss: 0.4871 - val_accuracy: 0.7050\n",
      "Epoch 22/30\n",
      "10/10 [==============================] - 0s 26ms/step - loss: 0.1613 - accuracy: 0.7659 - val_loss: 0.5034 - val_accuracy: 0.7062\n",
      "Epoch 23/30\n",
      "10/10 [==============================] - 0s 26ms/step - loss: 0.1439 - accuracy: 0.7702 - val_loss: 0.5200 - val_accuracy: 0.7072\n",
      "Epoch 24/30\n",
      "10/10 [==============================] - 0s 24ms/step - loss: 0.1271 - accuracy: 0.7745 - val_loss: 0.5335 - val_accuracy: 0.7066\n",
      "Epoch 25/30\n",
      "10/10 [==============================] - 0s 24ms/step - loss: 0.1088 - accuracy: 0.7743 - val_loss: 0.5528 - val_accuracy: 0.7048\n",
      "Epoch 26/30\n",
      "10/10 [==============================] - 0s 23ms/step - loss: 0.0929 - accuracy: 0.7777 - val_loss: 0.5689 - val_accuracy: 0.6944\n",
      "Epoch 27/30\n",
      "10/10 [==============================] - 0s 27ms/step - loss: 0.0810 - accuracy: 0.7646 - val_loss: 0.6077 - val_accuracy: 0.6826\n",
      "Epoch 28/30\n",
      "10/10 [==============================] - 0s 24ms/step - loss: 0.0687 - accuracy: 0.7617 - val_loss: 0.6204 - val_accuracy: 0.6630\n",
      "Epoch 29/30\n",
      "10/10 [==============================] - 0s 24ms/step - loss: 0.0560 - accuracy: 0.7354 - val_loss: 0.6504 - val_accuracy: 0.6458\n",
      "Epoch 30/30\n",
      "10/10 [==============================] - 0s 24ms/step - loss: 0.0475 - accuracy: 0.7218 - val_loss: 0.6767 - val_accuracy: 0.6292\n",
      "782/782 [==============================] - 1s 913us/step - loss: 0.7154 - accuracy: 0.6233\n",
      "\n",
      "Test accuracy: 0.6232799887657166\n"
     ]
    }
   ],
   "source": [
    "third_history = third_model.fit(padded_inputs, y_train,\n",
    "                                epochs=30,\n",
    "                                batch_size=2000,\n",
    "                                validation_split=0.2)\n",
    "\n",
    "test_loss, test_acc = third_model.evaluate(padded_inputs_test,  y_test)\n",
    "\n",
    "print('\\nTest accuracy:', test_acc)"
   ]
  },
  {
   "cell_type": "code",
   "execution_count": 171,
   "metadata": {},
   "outputs": [
    {
     "data": {
      "image/png": "[encoded data removed]",
      "text/plain": [
       "<Figure size 432x288 with 1 Axes>"
      ]
     },
     "metadata": {
      "needs_background": "light"
     },
     "output_type": "display_data"
    },
    {
     "data": {
      "image/png": "[encoded data removed]",
      "text/plain": [
       "<Figure size 432x288 with 1 Axes>"
      ]
     },
     "metadata": {
      "needs_background": "light"
     },
     "output_type": "display_data"
    }
   ],
   "source": [
    "plt.plot(third_history.history['val_loss'])\n",
    "plt.title('Validation loss history')\n",
    "plt.ylabel('Loss value')\n",
    "plt.xlabel('No. epoch')\n",
    "plt.show()\n",
    "\n",
    "# Plot history: Accuracy\n",
    "plt.plot(third_history.history['val_accuracy'])\n",
    "plt.title('Validation accuracy history')\n",
    "plt.ylabel('Accuracy value (%)')\n",
    "plt.xlabel('No. epoch')\n",
    "plt.show()"
   ]
  },
  {
   "cell_type": "markdown",
   "metadata": {},
   "source": [
    "**Предсказания сети**"
   ]
  },
  {
   "cell_type": "code",
   "execution_count": 174,
   "metadata": {
    "executionInfo": {
     "elapsed": 894463,
     "status": "ok",
     "timestamp": 1606936369938,
     "user": {
      "displayName": "Mariia Korliakova",
      "photoUrl": "",
      "userId": "14165537686129864864"
     },
     "user_tz": -180
    },
    "id": "DnfNA0CrQLSD"
   },
   "outputs": [],
   "source": [
    "probability_model = tf.keras.Sequential([third_model, \n",
    "                                         tf.keras.layers.Softmax()])"
   ]
  },
  {
   "cell_type": "code",
   "execution_count": 176,
   "metadata": {
    "executionInfo": {
     "elapsed": 895247,
     "status": "ok",
     "timestamp": 1606936370730,
     "user": {
      "displayName": "Mariia Korliakova",
      "photoUrl": "",
      "userId": "14165537686129864864"
     },
     "user_tz": -180
    },
    "id": "Gl91RPhdCaXI"
   },
   "outputs": [],
   "source": [
    "predictions = probability_model.predict(padded_inputs_test)"
   ]
  },
  {
   "cell_type": "code",
   "execution_count": 182,
   "metadata": {
    "colab": {
     "base_uri": "https://localhost:8080/"
    },
    "executionInfo": {
     "elapsed": 895239,
     "status": "ok",
     "timestamp": 1606936370731,
     "user": {
      "displayName": "Mariia Korliakova",
      "photoUrl": "",
      "userId": "14165537686129864864"
     },
     "user_tz": -180
    },
    "id": "3DmJEUinCaXK",
    "outputId": "de608f27-bc76-4a27-bca3-9fb4600601fb"
   },
   "outputs": [
    {
     "data": {
      "text/plain": [
       "array([0.47917643, 0.5208236 ], dtype=float32)"
      ]
     },
     "execution_count": 182,
     "metadata": {},
     "output_type": "execute_result"
    }
   ],
   "source": [
    "predictions[1]"
   ]
  },
  {
   "cell_type": "code",
   "execution_count": 183,
   "metadata": {
    "colab": {
     "base_uri": "https://localhost:8080/"
    },
    "executionInfo": {
     "elapsed": 895225,
     "status": "ok",
     "timestamp": 1606936370732,
     "user": {
      "displayName": "Mariia Korliakova",
      "photoUrl": "",
      "userId": "14165537686129864864"
     },
     "user_tz": -180
    },
    "id": "qsqenuPnCaXO",
    "outputId": "f7df69e2-ce81-417e-a87e-12b6f458e510"
   },
   "outputs": [
    {
     "data": {
      "text/plain": [
       "1"
      ]
     },
     "execution_count": 183,
     "metadata": {},
     "output_type": "execute_result"
    }
   ],
   "source": [
    "np.argmax(predictions[1])"
   ]
  },
  {
   "cell_type": "code",
   "execution_count": 184,
   "metadata": {
    "colab": {
     "base_uri": "https://localhost:8080/"
    },
    "executionInfo": {
     "elapsed": 895211,
     "status": "ok",
     "timestamp": 1606936370733,
     "user": {
      "displayName": "Mariia Korliakova",
      "photoUrl": "",
      "userId": "14165537686129864864"
     },
     "user_tz": -180
    },
    "id": "Sd7Pgsu6CaXP",
    "outputId": "730b9deb-82f9-454b-ccb2-16d2fd3cc248"
   },
   "outputs": [
    {
     "data": {
      "text/plain": [
       "1"
      ]
     },
     "execution_count": 184,
     "metadata": {},
     "output_type": "execute_result"
    }
   ],
   "source": [
    "y_test[1]"
   ]
  },
  {
   "cell_type": "code",
   "execution_count": 203,
   "metadata": {},
   "outputs": [
    {
     "name": "stdout",
     "output_type": "stream",
     "text": [
      " Предсказание: 1\n",
      "Метка: 0\n",
      "=================================================\n",
      " Предсказание: 1\n",
      "Метка: 1\n",
      "=================================================\n",
      " Предсказание: 1\n",
      "Метка: 1\n",
      "=================================================\n",
      " Предсказание: 1\n",
      "Метка: 0\n",
      "=================================================\n",
      " Предсказание: 1\n",
      "Метка: 1\n",
      "=================================================\n"
     ]
    }
   ],
   "source": [
    "for i in range(5):\n",
    "    print(f' Предсказание: {np.argmax(predictions[i])}')\n",
    "    print(f'Метка: {y_test[i]}')\n",
    "    print('=================================================')"
   ]
  },
  {
   "cell_type": "markdown",
   "metadata": {},
   "source": [
    "**Попробуем добавить Dropout слой **"
   ]
  },
  {
   "cell_type": "code",
   "execution_count": 206,
   "metadata": {
    "scrolled": true
   },
   "outputs": [
    {
     "name": "stdout",
     "output_type": "stream",
     "text": [
      "Model: \"sequential_49\"\n",
      "_________________________________________________________________\n",
      "Layer (type)                 Output Shape              Param #   \n",
      "=================================================================\n",
      "embedding_38 (Embedding)     (None, 100, 15)           150000    \n",
      "_________________________________________________________________\n",
      "flatten_40 (Flatten)         (None, 1500)              0         \n",
      "_________________________________________________________________\n",
      "dense_132 (Dense)            (None, 128)               192128    \n",
      "_________________________________________________________________\n",
      "dropout_19 (Dropout)         (None, 128)               0         \n",
      "_________________________________________________________________\n",
      "dense_133 (Dense)            (None, 64)                8256      \n",
      "_________________________________________________________________\n",
      "dense_134 (Dense)            (None, 2)                 130       \n",
      "=================================================================\n",
      "Total params: 350,514\n",
      "Trainable params: 350,514\n",
      "Non-trainable params: 0\n",
      "_________________________________________________________________\n"
     ]
    }
   ],
   "source": [
    "fourth_model = keras.Sequential([\n",
    "    keras.layers.Embedding(10000, input_length=100, output_dim=15),\n",
    "    keras.layers.Flatten(),\n",
    "    keras.layers.Dense(128, activation='relu'),\n",
    "    keras.layers.Dropout(0.30),\n",
    "    keras.layers.Dense(64, activation='relu'),\n",
    "    keras.layers.Dense(2)\n",
    "])\n",
    "\n",
    "fourth_model.compile(optimizer='adam',\n",
    "                    loss=tf.keras.losses.BinaryCrossentropy(from_logits=False, \n",
    "                                                             label_smoothing=0,\n",
    "                                                             name='binary_crossentropy'),\n",
    "                    metrics=['accuracy'])\n",
    "\n",
    "fourth_model.summary()"
   ]
  },
  {
   "cell_type": "code",
   "execution_count": 207,
   "metadata": {},
   "outputs": [
    {
     "name": "stdout",
     "output_type": "stream",
     "text": [
      "Epoch 1/40\n",
      "10/10 [==============================] - 1s 34ms/step - loss: 2.4622 - accuracy: 0.5062 - val_loss: 0.9867 - val_accuracy: 0.4990\n",
      "Epoch 2/40\n",
      "10/10 [==============================] - 0s 24ms/step - loss: 0.9172 - accuracy: 0.4991 - val_loss: 0.7330 - val_accuracy: 0.5052\n",
      "Epoch 3/40\n",
      "10/10 [==============================] - 0s 28ms/step - loss: 0.7128 - accuracy: 0.5097 - val_loss: 0.6832 - val_accuracy: 0.4970\n",
      "Epoch 4/40\n",
      "10/10 [==============================] - 0s 24ms/step - loss: 0.6840 - accuracy: 0.5019 - val_loss: 0.6705 - val_accuracy: 0.5130\n",
      "Epoch 5/40\n",
      "10/10 [==============================] - 0s 25ms/step - loss: 0.6580 - accuracy: 0.5073 - val_loss: 0.6524 - val_accuracy: 0.4982\n",
      "Epoch 6/40\n",
      "10/10 [==============================] - 1s 66ms/step - loss: 0.6374 - accuracy: 0.4949 - val_loss: 0.6372 - val_accuracy: 0.5022\n",
      "Epoch 7/40\n",
      "10/10 [==============================] - 0s 24ms/step - loss: 0.6131 - accuracy: 0.5012 - val_loss: 0.6165 - val_accuracy: 0.5216\n",
      "Epoch 8/40\n",
      "10/10 [==============================] - 0s 24ms/step - loss: 0.5844 - accuracy: 0.5196 - val_loss: 0.5906 - val_accuracy: 0.5426\n",
      "Epoch 9/40\n",
      "10/10 [==============================] - 0s 25ms/step - loss: 0.5464 - accuracy: 0.5314 - val_loss: 0.5564 - val_accuracy: 0.5592\n",
      "Epoch 10/40\n",
      "10/10 [==============================] - 0s 26ms/step - loss: 0.5033 - accuracy: 0.5429 - val_loss: 0.5173 - val_accuracy: 0.5820\n",
      "Epoch 11/40\n",
      "10/10 [==============================] - 0s 24ms/step - loss: 0.4484 - accuracy: 0.5604 - val_loss: 0.4792 - val_accuracy: 0.6066\n",
      "Epoch 12/40\n",
      "10/10 [==============================] - 0s 25ms/step - loss: 0.3939 - accuracy: 0.5881 - val_loss: 0.4578 - val_accuracy: 0.6426\n",
      "Epoch 13/40\n",
      "10/10 [==============================] - 0s 24ms/step - loss: 0.3410 - accuracy: 0.6136 - val_loss: 0.4508 - val_accuracy: 0.6680\n",
      "Epoch 14/40\n",
      "10/10 [==============================] - 0s 27ms/step - loss: 0.2974 - accuracy: 0.6495 - val_loss: 0.4559 - val_accuracy: 0.7028\n",
      "Epoch 15/40\n",
      "10/10 [==============================] - 0s 24ms/step - loss: 0.2611 - accuracy: 0.6837 - val_loss: 0.4857 - val_accuracy: 0.7168\n",
      "Epoch 16/40\n",
      "10/10 [==============================] - 0s 24ms/step - loss: 0.2363 - accuracy: 0.6952 - val_loss: 0.4744 - val_accuracy: 0.6778\n",
      "Epoch 17/40\n",
      "10/10 [==============================] - 0s 24ms/step - loss: 0.2203 - accuracy: 0.6565 - val_loss: 0.5226 - val_accuracy: 0.6682\n",
      "Epoch 18/40\n",
      "10/10 [==============================] - 0s 27ms/step - loss: 0.1876 - accuracy: 0.6422 - val_loss: 0.5338 - val_accuracy: 0.6918\n",
      "Epoch 19/40\n",
      "10/10 [==============================] - 0s 24ms/step - loss: 0.1696 - accuracy: 0.6549 - val_loss: 0.5542 - val_accuracy: 0.5932\n",
      "Epoch 20/40\n",
      "10/10 [==============================] - 0s 25ms/step - loss: 0.1499 - accuracy: 0.5944 - val_loss: 0.5393 - val_accuracy: 0.6098\n",
      "Epoch 21/40\n",
      "10/10 [==============================] - 0s 24ms/step - loss: 0.1297 - accuracy: 0.6297 - val_loss: 0.6370 - val_accuracy: 0.6836\n",
      "Epoch 22/40\n",
      "10/10 [==============================] - 0s 27ms/step - loss: 0.1120 - accuracy: 0.6927 - val_loss: 0.6177 - val_accuracy: 0.6916\n",
      "Epoch 23/40\n",
      "10/10 [==============================] - 0s 24ms/step - loss: 0.0959 - accuracy: 0.7225 - val_loss: 0.6543 - val_accuracy: 0.6986\n",
      "Epoch 24/40\n",
      "10/10 [==============================] - 0s 24ms/step - loss: 0.0779 - accuracy: 0.7334 - val_loss: 0.7043 - val_accuracy: 0.6994\n",
      "Epoch 25/40\n",
      "10/10 [==============================] - 0s 24ms/step - loss: 0.0654 - accuracy: 0.7438 - val_loss: 0.7202 - val_accuracy: 0.6998\n",
      "Epoch 26/40\n",
      "10/10 [==============================] - 0s 28ms/step - loss: 0.0549 - accuracy: 0.7550 - val_loss: 0.7606 - val_accuracy: 0.7118\n",
      "Epoch 27/40\n",
      "10/10 [==============================] - 0s 24ms/step - loss: 0.0435 - accuracy: 0.7707 - val_loss: 0.8251 - val_accuracy: 0.7224\n",
      "Epoch 28/40\n",
      "10/10 [==============================] - 0s 24ms/step - loss: 0.0367 - accuracy: 0.7882 - val_loss: 0.8594 - val_accuracy: 0.7268\n",
      "Epoch 29/40\n",
      "10/10 [==============================] - 0s 24ms/step - loss: 0.0285 - accuracy: 0.8001 - val_loss: 0.9114 - val_accuracy: 0.7366\n",
      "Epoch 30/40\n",
      "10/10 [==============================] - 0s 28ms/step - loss: 0.0259 - accuracy: 0.8162 - val_loss: 0.9649 - val_accuracy: 0.7416\n",
      "Epoch 31/40\n",
      "10/10 [==============================] - 0s 24ms/step - loss: 0.0182 - accuracy: 0.8252 - val_loss: 1.0000 - val_accuracy: 0.7450\n",
      "Epoch 32/40\n",
      "10/10 [==============================] - 0s 24ms/step - loss: 0.0174 - accuracy: 0.8299 - val_loss: 1.0414 - val_accuracy: 0.7508\n",
      "Epoch 33/40\n",
      "10/10 [==============================] - 0s 24ms/step - loss: 0.0120 - accuracy: 0.8438 - val_loss: 1.0677 - val_accuracy: 0.7592\n",
      "Epoch 34/40\n",
      "10/10 [==============================] - 0s 27ms/step - loss: 0.0106 - accuracy: 0.8529 - val_loss: 1.1045 - val_accuracy: 0.7642\n",
      "Epoch 35/40\n",
      "10/10 [==============================] - 0s 24ms/step - loss: 0.0083 - accuracy: 0.8608 - val_loss: 1.1365 - val_accuracy: 0.7684\n",
      "Epoch 36/40\n",
      "10/10 [==============================] - 0s 25ms/step - loss: 0.0072 - accuracy: 0.8660 - val_loss: 1.1660 - val_accuracy: 0.7738\n",
      "Epoch 37/40\n",
      "10/10 [==============================] - 0s 24ms/step - loss: 0.0052 - accuracy: 0.8714 - val_loss: 1.1921 - val_accuracy: 0.7744\n",
      "Epoch 38/40\n",
      "10/10 [==============================] - 0s 28ms/step - loss: 0.0061 - accuracy: 0.8712 - val_loss: 1.2108 - val_accuracy: 0.7774\n",
      "Epoch 39/40\n",
      "10/10 [==============================] - 0s 24ms/step - loss: 0.0063 - accuracy: 0.8815 - val_loss: 1.2203 - val_accuracy: 0.7776\n",
      "Epoch 40/40\n",
      "10/10 [==============================] - 0s 24ms/step - loss: 0.0045 - accuracy: 0.8830 - val_loss: 1.2350 - val_accuracy: 0.7786\n",
      "782/782 [==============================] - 1s 868us/step - loss: 1.2923 - accuracy: 0.7644\n",
      "\n",
      "Test accuracy: 0.7644000053405762\n"
     ]
    }
   ],
   "source": [
    "fourth_history = fourth_model.fit(padded_inputs, y_train,\n",
    "                                epochs=40,\n",
    "                                batch_size=2000,\n",
    "                                validation_split=0.2)\n",
    "\n",
    "test_loss, test_acc = fourth_model.evaluate(padded_inputs_test,  y_test)\n",
    "\n",
    "print('\\nTest accuracy:', test_acc)"
   ]
  },
  {
   "cell_type": "code",
   "execution_count": 208,
   "metadata": {},
   "outputs": [
    {
     "data": {
      "image/png": "[encoded data removed]",
      "text/plain": [
       "<Figure size 432x288 with 1 Axes>"
      ]
     },
     "metadata": {
      "needs_background": "light"
     },
     "output_type": "display_data"
    },
    {
     "data": {
      "image/png": "[encoded data removed]",
      "text/plain": [
       "<Figure size 432x288 with 1 Axes>"
      ]
     },
     "metadata": {
      "needs_background": "light"
     },
     "output_type": "display_data"
    }
   ],
   "source": [
    "plt.plot(fourth_history.history['val_loss'])\n",
    "plt.title('Validation loss history')\n",
    "plt.ylabel('Loss value')\n",
    "plt.xlabel('No. epoch')\n",
    "plt.show()\n",
    "\n",
    "# Plot history: Accuracy\n",
    "plt.plot(fourth_history.history['val_accuracy'])\n",
    "plt.title('Validation accuracy history')\n",
    "plt.ylabel('Accuracy value (%)')\n",
    "plt.xlabel('No. epoch')\n",
    "plt.show()"
   ]
  },
  {
   "cell_type": "markdown",
   "metadata": {},
   "source": [
    "**Предсказания сети**"
   ]
  },
  {
   "cell_type": "code",
   "execution_count": 209,
   "metadata": {
    "executionInfo": {
     "elapsed": 894463,
     "status": "ok",
     "timestamp": 1606936369938,
     "user": {
      "displayName": "Mariia Korliakova",
      "photoUrl": "",
      "userId": "14165537686129864864"
     },
     "user_tz": -180
    },
    "id": "DnfNA0CrQLSD"
   },
   "outputs": [],
   "source": [
    "probability_model = tf.keras.Sequential([third_model, \n",
    "                                         tf.keras.layers.Softmax()])"
   ]
  },
  {
   "cell_type": "code",
   "execution_count": 210,
   "metadata": {
    "executionInfo": {
     "elapsed": 895247,
     "status": "ok",
     "timestamp": 1606936370730,
     "user": {
      "displayName": "Mariia Korliakova",
      "photoUrl": "",
      "userId": "14165537686129864864"
     },
     "user_tz": -180
    },
    "id": "Gl91RPhdCaXI"
   },
   "outputs": [],
   "source": [
    "predictions = probability_model.predict(padded_inputs_test)"
   ]
  },
  {
   "cell_type": "code",
   "execution_count": 211,
   "metadata": {
    "colab": {
     "base_uri": "https://localhost:8080/"
    },
    "executionInfo": {
     "elapsed": 895239,
     "status": "ok",
     "timestamp": 1606936370731,
     "user": {
      "displayName": "Mariia Korliakova",
      "photoUrl": "",
      "userId": "14165537686129864864"
     },
     "user_tz": -180
    },
    "id": "3DmJEUinCaXK",
    "outputId": "de608f27-bc76-4a27-bca3-9fb4600601fb"
   },
   "outputs": [
    {
     "data": {
      "text/plain": [
       "array([0.47917643, 0.5208236 ], dtype=float32)"
      ]
     },
     "execution_count": 211,
     "metadata": {},
     "output_type": "execute_result"
    }
   ],
   "source": [
    "predictions[1]"
   ]
  },
  {
   "cell_type": "code",
   "execution_count": 212,
   "metadata": {
    "colab": {
     "base_uri": "https://localhost:8080/"
    },
    "executionInfo": {
     "elapsed": 895225,
     "status": "ok",
     "timestamp": 1606936370732,
     "user": {
      "displayName": "Mariia Korliakova",
      "photoUrl": "",
      "userId": "14165537686129864864"
     },
     "user_tz": -180
    },
    "id": "qsqenuPnCaXO",
    "outputId": "f7df69e2-ce81-417e-a87e-12b6f458e510"
   },
   "outputs": [
    {
     "data": {
      "text/plain": [
       "1"
      ]
     },
     "execution_count": 212,
     "metadata": {},
     "output_type": "execute_result"
    }
   ],
   "source": [
    "np.argmax(predictions[1])"
   ]
  },
  {
   "cell_type": "code",
   "execution_count": 213,
   "metadata": {
    "colab": {
     "base_uri": "https://localhost:8080/"
    },
    "executionInfo": {
     "elapsed": 895211,
     "status": "ok",
     "timestamp": 1606936370733,
     "user": {
      "displayName": "Mariia Korliakova",
      "photoUrl": "",
      "userId": "14165537686129864864"
     },
     "user_tz": -180
    },
    "id": "Sd7Pgsu6CaXP",
    "outputId": "730b9deb-82f9-454b-ccb2-16d2fd3cc248"
   },
   "outputs": [
    {
     "data": {
      "text/plain": [
       "1"
      ]
     },
     "execution_count": 213,
     "metadata": {},
     "output_type": "execute_result"
    }
   ],
   "source": [
    "y_test[1]"
   ]
  },
  {
   "cell_type": "code",
   "execution_count": 214,
   "metadata": {},
   "outputs": [
    {
     "name": "stdout",
     "output_type": "stream",
     "text": [
      " Предсказание: 1\n",
      "Метка: 0\n",
      "=================================================\n",
      " Предсказание: 1\n",
      "Метка: 1\n",
      "=================================================\n",
      " Предсказание: 1\n",
      "Метка: 1\n",
      "=================================================\n",
      " Предсказание: 1\n",
      "Метка: 0\n",
      "=================================================\n",
      " Предсказание: 1\n",
      "Метка: 1\n",
      "=================================================\n"
     ]
    }
   ],
   "source": [
    "for i in range(5):\n",
    "    print(f' Предсказание: {np.argmax(predictions[i])}')\n",
    "    print(f'Метка: {y_test[i]}')\n",
    "    print('=================================================')"
   ]
  },
  {
   "cell_type": "code",
   "execution_count": null,
   "metadata": {},
   "outputs": [],
   "source": []
  }
 ],
 "metadata": {
  "accelerator": "GPU",
  "colab": {
   "collapsed_sections": [],
   "name": "metodich3_colab_3_07.ipynb",
   "provenance": []
  },
  "kernelspec": {
   "display_name": "Python 3",
   "language": "python",
   "name": "python3"
  },
  "language_info": {
   "codemirror_mode": {
    "name": "ipython",
    "version": 3
   },
   "file_extension": ".py",
   "mimetype": "text/x-python",
   "name": "python",
   "nbconvert_exporter": "python",
   "pygments_lexer": "ipython3",
   "version": "3.7.6"
  }
 },
 "nbformat": 4,
 "nbformat_minor": 1
}
