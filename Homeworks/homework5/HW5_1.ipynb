{
  "nbformat": 4,
  "nbformat_minor": 0,
  "metadata": {
    "colab": {
      "name": "HW5_1.ipynb\"",
      "provenance": [],
      "collapsed_sections": []
    },
    "kernelspec": {
      "name": "python3",
      "display_name": "Python 3"
    },
    "accelerator": "GPU"
  },
  "cells": [
    {
      "cell_type": "code",
      "metadata": {
        "id": "IOX9KcxcbMNB"
      },
      "source": [
        "# Рисовать графики сразу же\n",
        "%matplotlib inline\n",
        "\n",
        "import pandas as pd\n",
        "import matplotlib.pyplot as plt\n",
        "from tensorflow.keras import utils\n",
        "import numpy as np\n",
        "import tensorflow.keras as keras\n",
        "from tensorflow.keras.optimizers import Adam\n",
        "from tensorflow.keras.models import Sequential, Model\n",
        "from tensorflow.keras.layers import concatenate, Input, Dense, Dropout, BatchNormalization, Flatten, Conv1D, Conv2D, LSTM\n",
        "\n",
        "from google.colab import files\n",
        "from sklearn.preprocessing import StandardScaler, MinMaxScaler"
      ],
      "execution_count": 1,
      "outputs": []
    },
    {
      "cell_type": "code",
      "metadata": {
        "id": "TvWj5CfUPq7i"
      },
      "source": [
        "from tensorflow.keras.callbacks import EarlyStopping"
      ],
      "execution_count": 2,
      "outputs": []
    },
    {
      "cell_type": "markdown",
      "metadata": {
        "id": "U6Of5-M3nxnM"
      },
      "source": [
        "Читаем данные из файла airline-passengers"
      ]
    },
    {
      "cell_type": "code",
      "metadata": {
        "id": "YVyA-Lf-blzj",
        "colab": {
          "resources": {
            "http://localhost:8080/nbextensions/google.colab/files.js": {
              "data": "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",
              "ok": true,
              "headers": [
                [
                  "content-type",
                  "application/javascript"
                ]
              ],
              "status": 200,
              "status_text": ""
            }
          },
          "base_uri": "https://localhost:8080/",
          "height": 140
        },
        "outputId": "a345c31f-1089-4bd1-ff66-145220772438"
      },
      "source": [
        "files.upload()\n",
        "!ls"
      ],
      "execution_count": 3,
      "outputs": [
        {
          "output_type": "display_data",
          "data": {
            "text/html": [
              "\n",
              "     <input type=\"file\" id=\"files-43d33ba0-befa-4da2-9ca0-6fc09e7a4efa\" name=\"files[]\" multiple disabled\n",
              "        style=\"border:none\" />\n",
              "     <output id=\"result-43d33ba0-befa-4da2-9ca0-6fc09e7a4efa\">\n",
              "      Upload widget is only available when the cell has been executed in the\n",
              "      current browser session. Please rerun this cell to enable.\n",
              "      </output>\n",
              "      <script src=\"/nbextensions/google.colab/files.js\"></script> "
            ],
            "text/plain": [
              "<IPython.core.display.HTML object>"
            ]
          },
          "metadata": {
            "tags": []
          }
        },
        {
          "output_type": "stream",
          "text": [
            "Saving airline-passengers.csv to airline-passengers (6).csv\n",
            "'airline-passengers (1).csv'  'airline-passengers (5).csv'\n",
            "'airline-passengers (2).csv'  'airline-passengers (6).csv'\n",
            "'airline-passengers (3).csv'   airline-passengers.csv\n",
            "'airline-passengers (4).csv'   sample_data\n"
          ],
          "name": "stdout"
        }
      ]
    },
    {
      "cell_type": "code",
      "metadata": {
        "id": "FbOkFf_7cgWa"
      },
      "source": [
        "df = pd.read_csv('airline-passengers.csv')\n"
      ],
      "execution_count": 4,
      "outputs": []
    },
    {
      "cell_type": "code",
      "metadata": {
        "colab": {
          "base_uri": "https://localhost:8080/",
          "height": 204
        },
        "id": "eBTEp_DspCNY",
        "outputId": "b8b07323-bb8e-4242-bc75-ae163a241a0d"
      },
      "source": [
        "df.head()"
      ],
      "execution_count": 5,
      "outputs": [
        {
          "output_type": "execute_result",
          "data": {
            "text/html": [
              "<div>\n",
              "<style scoped>\n",
              "    .dataframe tbody tr th:only-of-type {\n",
              "        vertical-align: middle;\n",
              "    }\n",
              "\n",
              "    .dataframe tbody tr th {\n",
              "        vertical-align: top;\n",
              "    }\n",
              "\n",
              "    .dataframe thead th {\n",
              "        text-align: right;\n",
              "    }\n",
              "</style>\n",
              "<table border=\"1\" class=\"dataframe\">\n",
              "  <thead>\n",
              "    <tr style=\"text-align: right;\">\n",
              "      <th></th>\n",
              "      <th>Month</th>\n",
              "      <th>Passengers</th>\n",
              "    </tr>\n",
              "  </thead>\n",
              "  <tbody>\n",
              "    <tr>\n",
              "      <th>0</th>\n",
              "      <td>1949-01</td>\n",
              "      <td>112</td>\n",
              "    </tr>\n",
              "    <tr>\n",
              "      <th>1</th>\n",
              "      <td>1949-02</td>\n",
              "      <td>118</td>\n",
              "    </tr>\n",
              "    <tr>\n",
              "      <th>2</th>\n",
              "      <td>1949-03</td>\n",
              "      <td>132</td>\n",
              "    </tr>\n",
              "    <tr>\n",
              "      <th>3</th>\n",
              "      <td>1949-04</td>\n",
              "      <td>129</td>\n",
              "    </tr>\n",
              "    <tr>\n",
              "      <th>4</th>\n",
              "      <td>1949-05</td>\n",
              "      <td>121</td>\n",
              "    </tr>\n",
              "  </tbody>\n",
              "</table>\n",
              "</div>"
            ],
            "text/plain": [
              "     Month  Passengers\n",
              "0  1949-01         112\n",
              "1  1949-02         118\n",
              "2  1949-03         132\n",
              "3  1949-04         129\n",
              "4  1949-05         121"
            ]
          },
          "metadata": {
            "tags": []
          },
          "execution_count": 5
        }
      ]
    },
    {
      "cell_type": "code",
      "metadata": {
        "colab": {
          "base_uri": "https://localhost:8080/"
        },
        "id": "_kVe7UFypE13",
        "outputId": "079dd559-0585-4bc6-d88f-d74a5aafbacd"
      },
      "source": [
        "df.shape"
      ],
      "execution_count": 6,
      "outputs": [
        {
          "output_type": "execute_result",
          "data": {
            "text/plain": [
              "(144, 2)"
            ]
          },
          "metadata": {
            "tags": []
          },
          "execution_count": 6
        }
      ]
    },
    {
      "cell_type": "code",
      "metadata": {
        "id": "1kwnncHNs4Rc"
      },
      "source": [
        "# import datetime\n",
        "# from datetime import datetime, date\n",
        "# df['Year'] = pd.to_datetime(df['Month']).dt.year\n",
        "# df['Month'] = pd.to_datetime(df['Month']).dt.month"
      ],
      "execution_count": 7,
      "outputs": []
    },
    {
      "cell_type": "code",
      "metadata": {
        "id": "yMZ4eI0kuLua"
      },
      "source": [
        "target = df.iloc[:,1].values\r\n",
        "# df.drop(['Passengers'], axis=1,inplace=True)"
      ],
      "execution_count": 8,
      "outputs": []
    },
    {
      "cell_type": "code",
      "metadata": {
        "colab": {
          "base_uri": "https://localhost:8080/",
          "height": 442
        },
        "id": "VNSyFhb4wSaM",
        "outputId": "0e0c9fd2-837a-47e1-9e90-290b3ac90ab4"
      },
      "source": [
        "fig,ax = plt.subplots(figsize=(10,7))\r\n",
        "plt.plot(target,color=\"green\")\r\n",
        "plt.xlabel(\"Время\")\r\n",
        "plt.ylabel(\"Количество пассажиров\")\r\n",
        "plt.show()"
      ],
      "execution_count": 9,
      "outputs": [
        {
          "output_type": "display_data",
          "data": {
            "image/png": "[encoded data removed]",
            "text/plain": [
              "<Figure size 720x504 with 1 Axes>"
            ]
          },
          "metadata": {
            "tags": [],
            "needs_background": "light"
          }
        }
      ]
    },
    {
      "cell_type": "code",
      "metadata": {
        "id": "cRl-i0xw67bO"
      },
      "source": [
        "target = target.reshape(-1,1)\r\n",
        "target = target.astype(\"float32\")\r\n",
        "scaler = MinMaxScaler(feature_range=(0,1))\r\n",
        "target = scaler.fit_transform(target)"
      ],
      "execution_count": 10,
      "outputs": []
    },
    {
      "cell_type": "code",
      "metadata": {
        "id": "bMyV-DWT6GVX"
      },
      "source": [
        "train = []\r\n",
        "test = []\r\n",
        "\r\n",
        "train_len = 91\r\n",
        "test_len = 51\r\n",
        "\r\n",
        "train = target[:91]\r\n",
        "test = target[91:]"
      ],
      "execution_count": 11,
      "outputs": []
    },
    {
      "cell_type": "code",
      "metadata": {
        "id": "PA5Rbu7iZqw5",
        "colab": {
          "base_uri": "https://localhost:8080/"
        },
        "outputId": "fc283b26-6fcc-4f7a-c56e-f099b6463892"
      },
      "source": [
        "time_step = 10\n",
        "dataX = []\n",
        "dataY = []\n",
        "for i in range(len(train)-time_step-1):\n",
        "    a = train[i:(i+time_step), 0]\n",
        "    dataX.append(a)\n",
        "    dataY.append(train[i + time_step, 0])\n",
        "x_train = np.array(dataX)\n",
        "y_train = np.array(dataY)  \n",
        "print(\"The shape of x_train\",x_train.shape)\n",
        "print(\"The shape of y_train\",y_train.shape)"
      ],
      "execution_count": 12,
      "outputs": [
        {
          "output_type": "stream",
          "text": [
            "The shape of x_train (80, 10)\n",
            "The shape of y_train (80,)\n"
          ],
          "name": "stdout"
        }
      ]
    },
    {
      "cell_type": "code",
      "metadata": {
        "id": "eXgegTh9bb_m",
        "colab": {
          "base_uri": "https://localhost:8080/"
        },
        "outputId": "800c44a2-9f3a-4fb3-fc2c-5a4580e709af"
      },
      "source": [
        "dataX,dataY = [],[]\r\n",
        "for i in range(len(test)-time_step-1):\r\n",
        "    a = test[i:(i+time_step), 0]\r\n",
        "    dataX.append(a)\r\n",
        "    dataY.append(test[i + time_step, 0])\r\n",
        "x_test = np.array(dataX)\r\n",
        "y_test = np.array(dataY)\r\n",
        "print(\"The shape of x_test\",x_test.shape)\r\n",
        "print(\"The shape of y_test\", y_test.shape)"
      ],
      "execution_count": 16,
      "outputs": [
        {
          "output_type": "stream",
          "text": [
            "The shape of x_test (42, 10)\n",
            "The shape of y_test (42,)\n"
          ],
          "name": "stdout"
        }
      ]
    },
    {
      "cell_type": "code",
      "metadata": {
        "colab": {
          "base_uri": "https://localhost:8080/"
        },
        "id": "ylwEjeLY72SF",
        "outputId": "aefc41f7-6fce-4c42-a80c-d4b5cc8c7a94"
      },
      "source": [
        "x_test = x_test.reshape((42,1,10))\r\n",
        "x_train = x_train.reshape((80,1,10))\r\n",
        "print(\"The shape of x_test\",x_test.shape)\r\n",
        "print(\"The shape of x_train\",x_train.shape)"
      ],
      "execution_count": 18,
      "outputs": [
        {
          "output_type": "stream",
          "text": [
            "The shape of x_test (42, 1, 10)\n",
            "The shape of x_train (80, 1, 10)\n"
          ],
          "name": "stdout"
        }
      ]
    },
    {
      "cell_type": "code",
      "metadata": {
        "id": "L0AgulWmCEbI"
      },
      "source": [
        "# xLen = 3\r\n",
        "# learning_rate = 0.001\r\n",
        "# batch_size = 32\r\n",
        "# epochs = 10"
      ],
      "execution_count": null,
      "outputs": []
    },
    {
      "cell_type": "code",
      "metadata": {
        "id": "DddW8jzTB7Ch"
      },
      "source": [
        "# dataset_train = keras.preprocessing.timeseries_dataset_from_array(\r\n",
        "#     x_train,\r\n",
        "#     y_train,\r\n",
        "#     sequence_length=xLen,\r\n",
        "#     sampling_rate=1,\r\n",
        "#     batch_size=batch_size,\r\n",
        "# )\r\n",
        "# dataset_val = keras.preprocessing.timeseries_dataset_from_array(\r\n",
        "#     x_test,\r\n",
        "#     y_test,\r\n",
        "#     sequence_length=xLen,\r\n",
        "#     sampling_rate=1,\r\n",
        "#     batch_size=batch_size,\r\n",
        "# )\r\n"
      ],
      "execution_count": null,
      "outputs": []
    },
    {
      "cell_type": "code",
      "metadata": {
        "id": "cw6RAWYBB7FD"
      },
      "source": [
        "# for batch in dataset_train.take(2):\r\n",
        "#     inputs, targets = batch\r\n",
        "\r\n",
        "# print(\"Input shape:\", inputs.numpy().shape)\r\n",
        "# print(\"Target shape:\", targets.numpy().shape)"
      ],
      "execution_count": null,
      "outputs": []
    },
    {
      "cell_type": "code",
      "metadata": {
        "id": "LQldbaVM72Ut"
      },
      "source": [
        "# callback = EarlyStopping(monitor='val_mae', patience=5)\r\n",
        "\r\n",
        "model1 = Sequential()\r\n",
        "model1.add(LSTM(10, input_shape = (1, 10)))\r\n",
        "model1.add(Dense(1))\r\n",
        "\r\n",
        "model1.compile(optimizer = \"adam\", loss=\"mean_squared_error\")"
      ],
      "execution_count": 19,
      "outputs": []
    },
    {
      "cell_type": "code",
      "metadata": {
        "colab": {
          "base_uri": "https://localhost:8080/"
        },
        "id": "T9YVw3qf72XH",
        "outputId": "14dc7813-9b5b-477d-d939-d8836d221386"
      },
      "source": [
        "history1 = model1.fit(x_train, y_train, epochs=50)"
      ],
      "execution_count": 21,
      "outputs": [
        {
          "output_type": "stream",
          "text": [
            "Epoch 1/50\n",
            "3/3 [==============================] - 0s 3ms/step - loss: 0.0056\n",
            "Epoch 2/50\n",
            "3/3 [==============================] - 0s 3ms/step - loss: 0.0056\n",
            "Epoch 3/50\n",
            "3/3 [==============================] - 0s 3ms/step - loss: 0.0055\n",
            "Epoch 4/50\n",
            "3/3 [==============================] - 0s 3ms/step - loss: 0.0055\n",
            "Epoch 5/50\n",
            "3/3 [==============================] - 0s 3ms/step - loss: 0.0055\n",
            "Epoch 6/50\n",
            "3/3 [==============================] - 0s 2ms/step - loss: 0.0054\n",
            "Epoch 7/50\n",
            "3/3 [==============================] - 0s 2ms/step - loss: 0.0054\n",
            "Epoch 8/50\n",
            "3/3 [==============================] - 0s 3ms/step - loss: 0.0054\n",
            "Epoch 9/50\n",
            "3/3 [==============================] - 0s 2ms/step - loss: 0.0053\n",
            "Epoch 10/50\n",
            "3/3 [==============================] - 0s 3ms/step - loss: 0.0053\n",
            "Epoch 11/50\n",
            "3/3 [==============================] - 0s 3ms/step - loss: 0.0053\n",
            "Epoch 12/50\n",
            "3/3 [==============================] - 0s 3ms/step - loss: 0.0052\n",
            "Epoch 13/50\n",
            "3/3 [==============================] - 0s 3ms/step - loss: 0.0052\n",
            "Epoch 14/50\n",
            "3/3 [==============================] - 0s 3ms/step - loss: 0.0052\n",
            "Epoch 15/50\n",
            "3/3 [==============================] - 0s 3ms/step - loss: 0.0051\n",
            "Epoch 16/50\n",
            "3/3 [==============================] - 0s 3ms/step - loss: 0.0051\n",
            "Epoch 17/50\n",
            "3/3 [==============================] - 0s 3ms/step - loss: 0.0051\n",
            "Epoch 18/50\n",
            "3/3 [==============================] - 0s 3ms/step - loss: 0.0051\n",
            "Epoch 19/50\n",
            "3/3 [==============================] - 0s 3ms/step - loss: 0.0050\n",
            "Epoch 20/50\n",
            "3/3 [==============================] - 0s 3ms/step - loss: 0.0050\n",
            "Epoch 21/50\n",
            "3/3 [==============================] - 0s 3ms/step - loss: 0.0050\n",
            "Epoch 22/50\n",
            "3/3 [==============================] - 0s 2ms/step - loss: 0.0049\n",
            "Epoch 23/50\n",
            "3/3 [==============================] - 0s 2ms/step - loss: 0.0049\n",
            "Epoch 24/50\n",
            "3/3 [==============================] - 0s 2ms/step - loss: 0.0049\n",
            "Epoch 25/50\n",
            "3/3 [==============================] - 0s 3ms/step - loss: 0.0048\n",
            "Epoch 26/50\n",
            "3/3 [==============================] - 0s 3ms/step - loss: 0.0048\n",
            "Epoch 27/50\n",
            "3/3 [==============================] - 0s 2ms/step - loss: 0.0048\n",
            "Epoch 28/50\n",
            "3/3 [==============================] - 0s 3ms/step - loss: 0.0048\n",
            "Epoch 29/50\n",
            "3/3 [==============================] - 0s 2ms/step - loss: 0.0047\n",
            "Epoch 30/50\n",
            "3/3 [==============================] - 0s 3ms/step - loss: 0.0047\n",
            "Epoch 31/50\n",
            "3/3 [==============================] - 0s 3ms/step - loss: 0.0047\n",
            "Epoch 32/50\n",
            "3/3 [==============================] - 0s 2ms/step - loss: 0.0047\n",
            "Epoch 33/50\n",
            "3/3 [==============================] - 0s 2ms/step - loss: 0.0046\n",
            "Epoch 34/50\n",
            "3/3 [==============================] - 0s 2ms/step - loss: 0.0046\n",
            "Epoch 35/50\n",
            "3/3 [==============================] - 0s 3ms/step - loss: 0.0046\n",
            "Epoch 36/50\n",
            "3/3 [==============================] - 0s 3ms/step - loss: 0.0045\n",
            "Epoch 37/50\n",
            "3/3 [==============================] - 0s 3ms/step - loss: 0.0045\n",
            "Epoch 38/50\n",
            "3/3 [==============================] - 0s 2ms/step - loss: 0.0045\n",
            "Epoch 39/50\n",
            "3/3 [==============================] - 0s 3ms/step - loss: 0.0045\n",
            "Epoch 40/50\n",
            "3/3 [==============================] - 0s 3ms/step - loss: 0.0045\n",
            "Epoch 41/50\n",
            "3/3 [==============================] - 0s 2ms/step - loss: 0.0044\n",
            "Epoch 42/50\n",
            "3/3 [==============================] - 0s 2ms/step - loss: 0.0044\n",
            "Epoch 43/50\n",
            "3/3 [==============================] - 0s 3ms/step - loss: 0.0044\n",
            "Epoch 44/50\n",
            "3/3 [==============================] - 0s 3ms/step - loss: 0.0043\n",
            "Epoch 45/50\n",
            "3/3 [==============================] - 0s 4ms/step - loss: 0.0043\n",
            "Epoch 46/50\n",
            "3/3 [==============================] - 0s 3ms/step - loss: 0.0043\n",
            "Epoch 47/50\n",
            "3/3 [==============================] - 0s 3ms/step - loss: 0.0043\n",
            "Epoch 48/50\n",
            "3/3 [==============================] - 0s 3ms/step - loss: 0.0043\n",
            "Epoch 49/50\n",
            "3/3 [==============================] - 0s 3ms/step - loss: 0.0042\n",
            "Epoch 50/50\n",
            "3/3 [==============================] - 0s 2ms/step - loss: 0.0042\n"
          ],
          "name": "stdout"
        }
      ]
    },
    {
      "cell_type": "code",
      "metadata": {
        "id": "uZUNXcHBlBAG"
      },
      "source": [
        "trainPred = model1.predict(x_train) \r\n",
        "testPred = model1.predict(x_test)\r\n",
        "\r\n",
        "#Taking Inverse\r\n",
        "trainPred = scaler.inverse_transform(trainPred)\r\n",
        "testPred = scaler.inverse_transform(testPred)\r\n",
        "\r\n",
        "y_train = scaler.inverse_transform([y_train])\r\n",
        "y_test = scaler.inverse_transform([y_test])"
      ],
      "execution_count": 22,
      "outputs": []
    },
    {
      "cell_type": "code",
      "metadata": {
        "colab": {
          "base_uri": "https://localhost:8080/"
        },
        "id": "tNtN6rRxI3lL",
        "outputId": "9a330bf5-e86e-4e82-effb-3041ac59431f"
      },
      "source": [
        "import math\r\n",
        "from sklearn.metrics import mean_squared_error\r\n",
        "trainScore = math.sqrt(mean_squared_error(y_train[0], trainPred[:,0]))\r\n",
        "print('Train Score: %.2f RMSE' % (trainScore))\r\n",
        "testScore = math.sqrt(mean_squared_error(y_test[0], testPred[:,0]))\r\n",
        "print('Test Score: %.2f RMSE' % (testScore))"
      ],
      "execution_count": 23,
      "outputs": [
        {
          "output_type": "stream",
          "text": [
            "Train Score: 33.50 RMSE\n",
            "Test Score: 78.49 RMSE\n"
          ],
          "name": "stdout"
        }
      ]
    },
    {
      "cell_type": "code",
      "metadata": {
        "colab": {
          "base_uri": "https://localhost:8080/",
          "height": 428
        },
        "id": "zXFZW379I79r",
        "outputId": "cfe138cc-960e-48d1-b9d5-e6f0cbe2c04e"
      },
      "source": [
        "# shifting train\r\n",
        "trainPredictPlot = np.empty_like(target)\r\n",
        "trainPredictPlot[:, :] = np.nan\r\n",
        "trainPredictPlot[time_step:len(trainPred)+time_step, :] = trainPred\r\n",
        "\r\n",
        "\r\n",
        "# shifting test predictions for plotting\r\n",
        "testPredictPlot = np.empty_like(target)\r\n",
        "testPredictPlot[:, :] = np.nan\r\n",
        "testPredictPlot[len(trainPred)+(time_step*2)+1:len(target)-1, :] = testPred\r\n",
        "\r\n",
        "\r\n",
        "# plot baseline and predictions\r\n",
        "fig,ax = plt.subplots(figsize=(10,7))\r\n",
        "plt.plot(scaler.inverse_transform(target))\r\n",
        "plt.plot(trainPredictPlot)\r\n",
        "plt.plot(testPredictPlot)\r\n",
        "plt.show()"
      ],
      "execution_count": 24,
      "outputs": [
        {
          "output_type": "display_data",
          "data": {
            "image/png": "[encoded data removed]",
            "text/plain": [
              "<Figure size 720x504 with 1 Axes>"
            ]
          },
          "metadata": {
            "tags": [],
            "needs_background": "light"
          }
        }
      ]
    },
    {
      "cell_type": "code",
      "metadata": {
        "id": "unThkKe_QEot"
      },
      "source": [
        ""
      ],
      "execution_count": null,
      "outputs": []
    }
  ]
}